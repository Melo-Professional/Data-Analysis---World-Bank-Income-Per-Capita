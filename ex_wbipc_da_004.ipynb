{
  "cells": [
    {
      "cell_type": "code",
      "execution_count": null,
      "id": "5899410c",
      "metadata": {
        "id": "5899410c"
      },
      "outputs": [],
      "source": [
        "import pandas as pd\n",
        "import numpy as np\n",
        "import matplotlib as plt\n",
        "import matplotlib.pyplot as plt\n",
        "\n",
        "gdp = pd.read_csv('WorldBank_per_capita_GDP.csv', sep=\"\\t\")\n",
        "ec_index = pd.read_csv('heritage-all-data.csv')"
      ]
    },
    {
      "cell_type": "code",
      "execution_count": null,
      "id": "8b4026a7",
      "metadata": {
        "id": "8b4026a7"
      },
      "outputs": [],
      "source": [
        "gdp.columns =['Country', 'Year', 'Value', 'dunno']"
      ]
    },
    {
      "cell_type": "raw",
      "id": "35b6bbf9",
      "metadata": {
        "id": "35b6bbf9"
      },
      "source": [
        "gdp = gdp[['Country', 'Value']]"
      ]
    },
    {
      "cell_type": "code",
      "execution_count": null,
      "id": "67cc8c60",
      "metadata": {
        "id": "67cc8c60"
      },
      "outputs": [],
      "source": [
        "gdp = gdp[(gdp.Value.str.contains(\"NaN\")) == False]"
      ]
    },
    {
      "cell_type": "code",
      "execution_count": null,
      "id": "d8a08982",
      "metadata": {
        "id": "d8a08982",
        "outputId": "022d8525-7d1c-4c96-ee96-5064b0c24c82"
      },
      "outputs": [
        {
          "data": {
            "text/plain": [
              "Name                       object\n",
              "Index Year                  int64\n",
              "Overall Score             float64\n",
              "Property Rights           float64\n",
              "Government Integrity      float64\n",
              "Judicial Effectiveness    float64\n",
              "Tax Burden                float64\n",
              "Government Spending       float64\n",
              "Fiscal Health             float64\n",
              "Business Freedom          float64\n",
              "Labor Freedom             float64\n",
              "Monetary Freedom          float64\n",
              "Trade Freedom             float64\n",
              "Investment Freedom        float64\n",
              "Financial Freedom         float64\n",
              "dtype: object"
            ]
          },
          "execution_count": 33,
          "metadata": {},
          "output_type": "execute_result"
        }
      ],
      "source": [
        "ec_index.dtypes"
      ]
    },
    {
      "cell_type": "code",
      "execution_count": null,
      "id": "bdb757c7",
      "metadata": {
        "id": "bdb757c7"
      },
      "outputs": [],
      "source": [
        "ec_index = ec_index[['Name', 'Index Year', 'Overall Score']]\n",
        "gdp = gdp[['Country', 'Value']]"
      ]
    },
    {
      "cell_type": "code",
      "execution_count": null,
      "id": "e858cbb0",
      "metadata": {
        "id": "e858cbb0"
      },
      "outputs": [],
      "source": [
        "gdp['Value'] = gdp['Value'].str.replace(',','').astype(np.float64)"
      ]
    },
    {
      "cell_type": "code",
      "execution_count": null,
      "id": "79b2b31c",
      "metadata": {
        "id": "79b2b31c",
        "outputId": "5ca271c4-981d-4566-c5f7-aeb04511872e"
      },
      "outputs": [
        {
          "data": {
            "text/plain": [
              "Country     object\n",
              "Value      float64\n",
              "dtype: object"
            ]
          },
          "execution_count": 36,
          "metadata": {},
          "output_type": "execute_result"
        }
      ],
      "source": [
        "gdp.dtypes"
      ]
    },
    {
      "cell_type": "code",
      "execution_count": null,
      "id": "b034318f",
      "metadata": {
        "id": "b034318f",
        "outputId": "075be286-87f2-4cd7-9afa-abf81670355b"
      },
      "outputs": [
        {
          "data": {
            "text/html": [
              "<div>\n",
              "<style scoped>\n",
              "    .dataframe tbody tr th:only-of-type {\n",
              "        vertical-align: middle;\n",
              "    }\n",
              "\n",
              "    .dataframe tbody tr th {\n",
              "        vertical-align: top;\n",
              "    }\n",
              "\n",
              "    .dataframe thead th {\n",
              "        text-align: right;\n",
              "    }\n",
              "</style>\n",
              "<table border=\"1\" class=\"dataframe\">\n",
              "  <thead>\n",
              "    <tr style=\"text-align: right;\">\n",
              "      <th></th>\n",
              "      <th>Country</th>\n",
              "      <th>Value</th>\n",
              "    </tr>\n",
              "  </thead>\n",
              "  <tbody>\n",
              "    <tr>\n",
              "      <th>0</th>\n",
              "      <td>Afghanistan</td>\n",
              "      <td>2152.4</td>\n",
              "    </tr>\n",
              "    <tr>\n",
              "      <th>1</th>\n",
              "      <td>Albania</td>\n",
              "      <td>14013.0</td>\n",
              "    </tr>\n",
              "    <tr>\n",
              "      <th>2</th>\n",
              "      <td>Algeria</td>\n",
              "      <td>12009.2</td>\n",
              "    </tr>\n",
              "    <tr>\n",
              "      <th>5</th>\n",
              "      <td>Angola</td>\n",
              "      <td>6952.4</td>\n",
              "    </tr>\n",
              "    <tr>\n",
              "      <th>6</th>\n",
              "      <td>Antigua and Barbuda</td>\n",
              "      <td>22774.2</td>\n",
              "    </tr>\n",
              "    <tr>\n",
              "      <th>...</th>\n",
              "      <td>...</td>\n",
              "      <td>...</td>\n",
              "    </tr>\n",
              "    <tr>\n",
              "      <th>243</th>\n",
              "      <td>Low &amp; middle income</td>\n",
              "      <td>11048.2</td>\n",
              "    </tr>\n",
              "    <tr>\n",
              "      <th>244</th>\n",
              "      <td>Low income</td>\n",
              "      <td>2066.7</td>\n",
              "    </tr>\n",
              "    <tr>\n",
              "      <th>245</th>\n",
              "      <td>Lower middle income</td>\n",
              "      <td>7416.1</td>\n",
              "    </tr>\n",
              "    <tr>\n",
              "      <th>246</th>\n",
              "      <td>Middle income</td>\n",
              "      <td>12059.4</td>\n",
              "    </tr>\n",
              "    <tr>\n",
              "      <th>247</th>\n",
              "      <td>Upper middle income</td>\n",
              "      <td>18123.5</td>\n",
              "    </tr>\n",
              "  </tbody>\n",
              "</table>\n",
              "<p>229 rows × 2 columns</p>\n",
              "</div>"
            ],
            "text/plain": [
              "                 Country    Value\n",
              "0            Afghanistan   2152.4\n",
              "1                Albania  14013.0\n",
              "2                Algeria  12009.2\n",
              "5                 Angola   6952.4\n",
              "6    Antigua and Barbuda  22774.2\n",
              "..                   ...      ...\n",
              "243  Low & middle income  11048.2\n",
              "244           Low income   2066.7\n",
              "245  Lower middle income   7416.1\n",
              "246        Middle income  12059.4\n",
              "247  Upper middle income  18123.5\n",
              "\n",
              "[229 rows x 2 columns]"
            ]
          },
          "execution_count": 37,
          "metadata": {},
          "output_type": "execute_result"
        }
      ],
      "source": [
        "gdp"
      ]
    },
    {
      "cell_type": "code",
      "execution_count": null,
      "id": "a9b314f3",
      "metadata": {
        "id": "a9b314f3"
      },
      "outputs": [],
      "source": [
        "ec_index.columns = ['Country', 'Year', 'Score']"
      ]
    },
    {
      "cell_type": "code",
      "execution_count": null,
      "id": "3768e83d",
      "metadata": {
        "scrolled": true,
        "id": "3768e83d",
        "outputId": "3108304d-318c-47ce-ef1f-27dd27cdd7eb"
      },
      "outputs": [
        {
          "data": {
            "text/plain": [
              "Country     object\n",
              "Year         int64\n",
              "Score      float64\n",
              "dtype: object"
            ]
          },
          "execution_count": 39,
          "metadata": {},
          "output_type": "execute_result"
        }
      ],
      "source": [
        "ec_index.dtypes"
      ]
    },
    {
      "cell_type": "code",
      "execution_count": null,
      "id": "f1189302",
      "metadata": {
        "scrolled": false,
        "id": "f1189302",
        "outputId": "089880d5-5e27-417b-f315-037747b4ffa0"
      },
      "outputs": [
        {
          "name": "stdout",
          "output_type": "stream",
          "text": [
            "         Country  Year  Score\n",
            "0    Afghanistan  2019   51.5\n",
            "1        Albania  2019   66.5\n",
            "2        Algeria  2019   46.2\n",
            "3         Angola  2019   50.6\n",
            "4      Argentina  2019   52.2\n",
            "..           ...   ...    ...\n",
            "181    Venezuela  2019   25.9\n",
            "182      Vietnam  2019   55.3\n",
            "183        Yemen  2019    NaN\n",
            "184       Zambia  2019   53.6\n",
            "185     Zimbabwe  2019   40.4\n",
            "\n",
            "[186 rows x 3 columns]\n"
          ]
        }
      ],
      "source": [
        "print (ec_index)"
      ]
    },
    {
      "cell_type": "raw",
      "id": "0e9381d3",
      "metadata": {
        "id": "0e9381d3"
      },
      "source": [
        "ec_index = ec_index[ec_index.Year.isin([\"2019\"])]"
      ]
    },
    {
      "cell_type": "raw",
      "id": "4b0f940e",
      "metadata": {
        "id": "4b0f940e"
      },
      "source": [
        "df2[df2['code'].isin(df1.filter(like='code').stack())]"
      ]
    },
    {
      "cell_type": "code",
      "execution_count": null,
      "id": "55443352",
      "metadata": {
        "id": "55443352",
        "outputId": "432c6817-9a3b-43d5-aa05-78640383b500"
      },
      "outputs": [
        {
          "data": {
            "text/html": [
              "<div>\n",
              "<style scoped>\n",
              "    .dataframe tbody tr th:only-of-type {\n",
              "        vertical-align: middle;\n",
              "    }\n",
              "\n",
              "    .dataframe tbody tr th {\n",
              "        vertical-align: top;\n",
              "    }\n",
              "\n",
              "    .dataframe thead th {\n",
              "        text-align: right;\n",
              "    }\n",
              "</style>\n",
              "<table border=\"1\" class=\"dataframe\">\n",
              "  <thead>\n",
              "    <tr style=\"text-align: right;\">\n",
              "      <th></th>\n",
              "      <th>Country</th>\n",
              "      <th>Year</th>\n",
              "      <th>Score</th>\n",
              "    </tr>\n",
              "  </thead>\n",
              "  <tbody>\n",
              "  </tbody>\n",
              "</table>\n",
              "</div>"
            ],
            "text/plain": [
              "Empty DataFrame\n",
              "Columns: [Country, Year, Score]\n",
              "Index: []"
            ]
          },
          "execution_count": 41,
          "metadata": {},
          "output_type": "execute_result"
        }
      ],
      "source": [
        "ec_index[ec_index['Year'].isin(ec_index.filter(like='2019').stack())]"
      ]
    },
    {
      "cell_type": "code",
      "execution_count": null,
      "id": "55de309e",
      "metadata": {
        "id": "55de309e",
        "outputId": "ca09f6ca-69ea-4558-eb83-68665c370a27"
      },
      "outputs": [
        {
          "name": "stdout",
          "output_type": "stream",
          "text": [
            "         Country  Year  Score\n",
            "0    Afghanistan  2019   51.5\n",
            "1        Albania  2019   66.5\n",
            "2        Algeria  2019   46.2\n",
            "3         Angola  2019   50.6\n",
            "4      Argentina  2019   52.2\n",
            "..           ...   ...    ...\n",
            "181    Venezuela  2019   25.9\n",
            "182      Vietnam  2019   55.3\n",
            "183        Yemen  2019    NaN\n",
            "184       Zambia  2019   53.6\n",
            "185     Zimbabwe  2019   40.4\n",
            "\n",
            "[186 rows x 3 columns]\n"
          ]
        }
      ],
      "source": [
        "print (ec_index)"
      ]
    },
    {
      "cell_type": "code",
      "execution_count": null,
      "id": "61af0396",
      "metadata": {
        "id": "61af0396"
      },
      "outputs": [],
      "source": [
        "merged_data = pd.merge(gdp, ec_index, on='Country')"
      ]
    },
    {
      "cell_type": "code",
      "execution_count": null,
      "id": "9192cdbc",
      "metadata": {
        "id": "9192cdbc",
        "outputId": "9f29c327-2750-4946-bd05-dd0cd202f578"
      },
      "outputs": [
        {
          "data": {
            "text/html": [
              "<div>\n",
              "<style scoped>\n",
              "    .dataframe tbody tr th:only-of-type {\n",
              "        vertical-align: middle;\n",
              "    }\n",
              "\n",
              "    .dataframe tbody tr th {\n",
              "        vertical-align: top;\n",
              "    }\n",
              "\n",
              "    .dataframe thead th {\n",
              "        text-align: right;\n",
              "    }\n",
              "</style>\n",
              "<table border=\"1\" class=\"dataframe\">\n",
              "  <thead>\n",
              "    <tr style=\"text-align: right;\">\n",
              "      <th></th>\n",
              "      <th>Country</th>\n",
              "      <th>Value</th>\n",
              "      <th>Year</th>\n",
              "      <th>Score</th>\n",
              "    </tr>\n",
              "  </thead>\n",
              "  <tbody>\n",
              "    <tr>\n",
              "      <th>0</th>\n",
              "      <td>Afghanistan</td>\n",
              "      <td>2152.4</td>\n",
              "      <td>2019</td>\n",
              "      <td>51.5</td>\n",
              "    </tr>\n",
              "    <tr>\n",
              "      <th>1</th>\n",
              "      <td>Albania</td>\n",
              "      <td>14013.0</td>\n",
              "      <td>2019</td>\n",
              "      <td>66.5</td>\n",
              "    </tr>\n",
              "    <tr>\n",
              "      <th>2</th>\n",
              "      <td>Algeria</td>\n",
              "      <td>12009.2</td>\n",
              "      <td>2019</td>\n",
              "      <td>46.2</td>\n",
              "    </tr>\n",
              "    <tr>\n",
              "      <th>3</th>\n",
              "      <td>Angola</td>\n",
              "      <td>6952.4</td>\n",
              "      <td>2019</td>\n",
              "      <td>50.6</td>\n",
              "    </tr>\n",
              "    <tr>\n",
              "      <th>4</th>\n",
              "      <td>Argentina</td>\n",
              "      <td>22999.3</td>\n",
              "      <td>2019</td>\n",
              "      <td>52.2</td>\n",
              "    </tr>\n",
              "    <tr>\n",
              "      <th>...</th>\n",
              "      <td>...</td>\n",
              "      <td>...</td>\n",
              "      <td>...</td>\n",
              "      <td>...</td>\n",
              "    </tr>\n",
              "    <tr>\n",
              "      <th>157</th>\n",
              "      <td>Uzbekistan</td>\n",
              "      <td>7658.9</td>\n",
              "      <td>2019</td>\n",
              "      <td>53.3</td>\n",
              "    </tr>\n",
              "    <tr>\n",
              "      <th>158</th>\n",
              "      <td>Vanuatu</td>\n",
              "      <td>3269.9</td>\n",
              "      <td>2019</td>\n",
              "      <td>56.4</td>\n",
              "    </tr>\n",
              "    <tr>\n",
              "      <th>159</th>\n",
              "      <td>Vietnam</td>\n",
              "      <td>8381.2</td>\n",
              "      <td>2019</td>\n",
              "      <td>55.3</td>\n",
              "    </tr>\n",
              "    <tr>\n",
              "      <th>160</th>\n",
              "      <td>Zambia</td>\n",
              "      <td>3617.2</td>\n",
              "      <td>2019</td>\n",
              "      <td>53.6</td>\n",
              "    </tr>\n",
              "    <tr>\n",
              "      <th>161</th>\n",
              "      <td>Zimbabwe</td>\n",
              "      <td>3783.5</td>\n",
              "      <td>2019</td>\n",
              "      <td>40.4</td>\n",
              "    </tr>\n",
              "  </tbody>\n",
              "</table>\n",
              "<p>162 rows × 4 columns</p>\n",
              "</div>"
            ],
            "text/plain": [
              "         Country    Value  Year  Score\n",
              "0    Afghanistan   2152.4  2019   51.5\n",
              "1        Albania  14013.0  2019   66.5\n",
              "2        Algeria  12009.2  2019   46.2\n",
              "3         Angola   6952.4  2019   50.6\n",
              "4      Argentina  22999.3  2019   52.2\n",
              "..           ...      ...   ...    ...\n",
              "157   Uzbekistan   7658.9  2019   53.3\n",
              "158      Vanuatu   3269.9  2019   56.4\n",
              "159      Vietnam   8381.2  2019   55.3\n",
              "160       Zambia   3617.2  2019   53.6\n",
              "161     Zimbabwe   3783.5  2019   40.4\n",
              "\n",
              "[162 rows x 4 columns]"
            ]
          },
          "execution_count": 44,
          "metadata": {},
          "output_type": "execute_result"
        }
      ],
      "source": [
        "merged_data"
      ]
    },
    {
      "cell_type": "code",
      "execution_count": null,
      "id": "cc77deb5",
      "metadata": {
        "id": "cc77deb5"
      },
      "outputs": [],
      "source": [
        "merged_data = merged_data[['Country', 'Value', 'Score']]"
      ]
    },
    {
      "cell_type": "code",
      "execution_count": null,
      "id": "f92deee9",
      "metadata": {
        "id": "f92deee9",
        "outputId": "f1595d15-fb07-4ec3-ce97-08d67eeda0cf"
      },
      "outputs": [
        {
          "data": {
            "text/html": [
              "<div>\n",
              "<style scoped>\n",
              "    .dataframe tbody tr th:only-of-type {\n",
              "        vertical-align: middle;\n",
              "    }\n",
              "\n",
              "    .dataframe tbody tr th {\n",
              "        vertical-align: top;\n",
              "    }\n",
              "\n",
              "    .dataframe thead th {\n",
              "        text-align: right;\n",
              "    }\n",
              "</style>\n",
              "<table border=\"1\" class=\"dataframe\">\n",
              "  <thead>\n",
              "    <tr style=\"text-align: right;\">\n",
              "      <th></th>\n",
              "      <th>Country</th>\n",
              "      <th>Value</th>\n",
              "      <th>Score</th>\n",
              "    </tr>\n",
              "  </thead>\n",
              "  <tbody>\n",
              "    <tr>\n",
              "      <th>0</th>\n",
              "      <td>Afghanistan</td>\n",
              "      <td>2152.4</td>\n",
              "      <td>51.5</td>\n",
              "    </tr>\n",
              "    <tr>\n",
              "      <th>1</th>\n",
              "      <td>Albania</td>\n",
              "      <td>14013.0</td>\n",
              "      <td>66.5</td>\n",
              "    </tr>\n",
              "    <tr>\n",
              "      <th>2</th>\n",
              "      <td>Algeria</td>\n",
              "      <td>12009.2</td>\n",
              "      <td>46.2</td>\n",
              "    </tr>\n",
              "    <tr>\n",
              "      <th>3</th>\n",
              "      <td>Angola</td>\n",
              "      <td>6952.4</td>\n",
              "      <td>50.6</td>\n",
              "    </tr>\n",
              "    <tr>\n",
              "      <th>4</th>\n",
              "      <td>Argentina</td>\n",
              "      <td>22999.3</td>\n",
              "      <td>52.2</td>\n",
              "    </tr>\n",
              "    <tr>\n",
              "      <th>...</th>\n",
              "      <td>...</td>\n",
              "      <td>...</td>\n",
              "      <td>...</td>\n",
              "    </tr>\n",
              "    <tr>\n",
              "      <th>157</th>\n",
              "      <td>Uzbekistan</td>\n",
              "      <td>7658.9</td>\n",
              "      <td>53.3</td>\n",
              "    </tr>\n",
              "    <tr>\n",
              "      <th>158</th>\n",
              "      <td>Vanuatu</td>\n",
              "      <td>3269.9</td>\n",
              "      <td>56.4</td>\n",
              "    </tr>\n",
              "    <tr>\n",
              "      <th>159</th>\n",
              "      <td>Vietnam</td>\n",
              "      <td>8381.2</td>\n",
              "      <td>55.3</td>\n",
              "    </tr>\n",
              "    <tr>\n",
              "      <th>160</th>\n",
              "      <td>Zambia</td>\n",
              "      <td>3617.2</td>\n",
              "      <td>53.6</td>\n",
              "    </tr>\n",
              "    <tr>\n",
              "      <th>161</th>\n",
              "      <td>Zimbabwe</td>\n",
              "      <td>3783.5</td>\n",
              "      <td>40.4</td>\n",
              "    </tr>\n",
              "  </tbody>\n",
              "</table>\n",
              "<p>162 rows × 3 columns</p>\n",
              "</div>"
            ],
            "text/plain": [
              "         Country    Value  Score\n",
              "0    Afghanistan   2152.4   51.5\n",
              "1        Albania  14013.0   66.5\n",
              "2        Algeria  12009.2   46.2\n",
              "3         Angola   6952.4   50.6\n",
              "4      Argentina  22999.3   52.2\n",
              "..           ...      ...    ...\n",
              "157   Uzbekistan   7658.9   53.3\n",
              "158      Vanuatu   3269.9   56.4\n",
              "159      Vietnam   8381.2   55.3\n",
              "160       Zambia   3617.2   53.6\n",
              "161     Zimbabwe   3783.5   40.4\n",
              "\n",
              "[162 rows x 3 columns]"
            ]
          },
          "execution_count": 46,
          "metadata": {},
          "output_type": "execute_result"
        }
      ],
      "source": [
        "merged_data"
      ]
    },
    {
      "cell_type": "code",
      "execution_count": null,
      "id": "76a3430d",
      "metadata": {
        "id": "76a3430d",
        "outputId": "0ea1f5ae-e377-46fe-bb43-257b031a0f31"
      },
      "outputs": [
        {
          "name": "stderr",
          "output_type": "stream",
          "text": [
            "C:\\Users\\Melo\\AppData\\Local\\Temp\\ipykernel_10440\\4160153751.py:1: SettingWithCopyWarning:\n",
            "\n",
            "\n",
            "A value is trying to be set on a copy of a slice from a DataFrame\n",
            "\n",
            "See the caveats in the documentation: https://pandas.pydata.org/pandas-docs/stable/user_guide/indexing.html#returning-a-view-versus-a-copy\n",
            "\n"
          ]
        }
      ],
      "source": [
        "merged_data.dropna(axis=0, how='any', thresh=None, subset=None, inplace=True)"
      ]
    },
    {
      "cell_type": "code",
      "execution_count": null,
      "id": "54795e4c",
      "metadata": {
        "id": "54795e4c",
        "outputId": "9e74d0cf-6459-448c-b692-95f477c16233"
      },
      "outputs": [
        {
          "data": {
            "text/html": [
              "<div>\n",
              "<style scoped>\n",
              "    .dataframe tbody tr th:only-of-type {\n",
              "        vertical-align: middle;\n",
              "    }\n",
              "\n",
              "    .dataframe tbody tr th {\n",
              "        vertical-align: top;\n",
              "    }\n",
              "\n",
              "    .dataframe thead th {\n",
              "        text-align: right;\n",
              "    }\n",
              "</style>\n",
              "<table border=\"1\" class=\"dataframe\">\n",
              "  <thead>\n",
              "    <tr style=\"text-align: right;\">\n",
              "      <th></th>\n",
              "      <th>Country</th>\n",
              "      <th>Value</th>\n",
              "      <th>Score</th>\n",
              "    </tr>\n",
              "  </thead>\n",
              "  <tbody>\n",
              "    <tr>\n",
              "      <th>0</th>\n",
              "      <td>Afghanistan</td>\n",
              "      <td>2152.4</td>\n",
              "      <td>51.5</td>\n",
              "    </tr>\n",
              "    <tr>\n",
              "      <th>1</th>\n",
              "      <td>Albania</td>\n",
              "      <td>14013.0</td>\n",
              "      <td>66.5</td>\n",
              "    </tr>\n",
              "    <tr>\n",
              "      <th>2</th>\n",
              "      <td>Algeria</td>\n",
              "      <td>12009.2</td>\n",
              "      <td>46.2</td>\n",
              "    </tr>\n",
              "    <tr>\n",
              "      <th>3</th>\n",
              "      <td>Angola</td>\n",
              "      <td>6952.4</td>\n",
              "      <td>50.6</td>\n",
              "    </tr>\n",
              "    <tr>\n",
              "      <th>4</th>\n",
              "      <td>Argentina</td>\n",
              "      <td>22999.3</td>\n",
              "      <td>52.2</td>\n",
              "    </tr>\n",
              "    <tr>\n",
              "      <th>...</th>\n",
              "      <td>...</td>\n",
              "      <td>...</td>\n",
              "      <td>...</td>\n",
              "    </tr>\n",
              "    <tr>\n",
              "      <th>157</th>\n",
              "      <td>Uzbekistan</td>\n",
              "      <td>7658.9</td>\n",
              "      <td>53.3</td>\n",
              "    </tr>\n",
              "    <tr>\n",
              "      <th>158</th>\n",
              "      <td>Vanuatu</td>\n",
              "      <td>3269.9</td>\n",
              "      <td>56.4</td>\n",
              "    </tr>\n",
              "    <tr>\n",
              "      <th>159</th>\n",
              "      <td>Vietnam</td>\n",
              "      <td>8381.2</td>\n",
              "      <td>55.3</td>\n",
              "    </tr>\n",
              "    <tr>\n",
              "      <th>160</th>\n",
              "      <td>Zambia</td>\n",
              "      <td>3617.2</td>\n",
              "      <td>53.6</td>\n",
              "    </tr>\n",
              "    <tr>\n",
              "      <th>161</th>\n",
              "      <td>Zimbabwe</td>\n",
              "      <td>3783.5</td>\n",
              "      <td>40.4</td>\n",
              "    </tr>\n",
              "  </tbody>\n",
              "</table>\n",
              "<p>159 rows × 3 columns</p>\n",
              "</div>"
            ],
            "text/plain": [
              "         Country    Value  Score\n",
              "0    Afghanistan   2152.4   51.5\n",
              "1        Albania  14013.0   66.5\n",
              "2        Algeria  12009.2   46.2\n",
              "3         Angola   6952.4   50.6\n",
              "4      Argentina  22999.3   52.2\n",
              "..           ...      ...    ...\n",
              "157   Uzbekistan   7658.9   53.3\n",
              "158      Vanuatu   3269.9   56.4\n",
              "159      Vietnam   8381.2   55.3\n",
              "160       Zambia   3617.2   53.6\n",
              "161     Zimbabwe   3783.5   40.4\n",
              "\n",
              "[159 rows x 3 columns]"
            ]
          },
          "execution_count": 48,
          "metadata": {},
          "output_type": "execute_result"
        }
      ],
      "source": [
        "merged_data"
      ]
    },
    {
      "cell_type": "code",
      "execution_count": null,
      "id": "feea7e08",
      "metadata": {
        "id": "feea7e08",
        "outputId": "782bd571-13e1-460b-bb42-11d53ae04c11"
      },
      "outputs": [
        {
          "data": {
            "text/plain": [
              "<matplotlib.collections.PathCollection at 0x20f042eb7f0>"
            ]
          },
          "execution_count": 49,
          "metadata": {},
          "output_type": "execute_result"
        },
        {
          "data": {
            "image/png": "[encoded data removed]",
            "text/plain": [
              "<Figure size 432x288 with 1 Axes>"
            ]
          },
          "metadata": {
            "needs_background": "light"
          },
          "output_type": "display_data"
        }
      ],
      "source": [
        "plt.scatter(merged_data.Score, merged_data.Value)"
      ]
    },
    {
      "cell_type": "code",
      "execution_count": null,
      "id": "3646f2e1",
      "metadata": {
        "id": "3646f2e1"
      },
      "outputs": [],
      "source": [
        "import plotly.graph_objs as go\n",
        "import plotly.express as px"
      ]
    },
    {
      "cell_type": "code",
      "execution_count": null,
      "id": "d5f6c062",
      "metadata": {
        "scrolled": false,
        "id": "d5f6c062",
        "outputId": "a51493d0-9f55-4116-d404-22fd0a6ae228"
      },
      "outputs": [
        {
          "data": {
            "application/vnd.plotly.v1+json": {
              "config": {
                "plotlyServerURL": "https://plot.ly"
              },
              "data": [
                {
                  "customdata": [
                    [
                      "Afghanistan"
                    ],
                    [
                      "Albania"
                    ],
                    [
                      "Algeria"
                    ],
                    [
                      "Angola"
                    ],
                    [
                      "Argentina"
                    ],
                    [
                      "Armenia"
                    ],
                    [
                      "Australia"
                    ],
                    [
                      "Austria"
                    ],
                    [
                      "Azerbaijan"
                    ],
                    [
                      "Bahrain"
                    ],
                    [
                      "Bangladesh"
                    ],
                    [
                      "Barbados"
                    ],
                    [
                      "Belarus"
                    ],
                    [
                      "Belgium"
                    ],
                    [
                      "Belize"
                    ],
                    [
                      "Benin"
                    ],
                    [
                      "Bhutan"
                    ],
                    [
                      "Bolivia"
                    ],
                    [
                      "Bosnia and Herzegovina"
                    ],
                    [
                      "Botswana"
                    ],
                    [
                      "Brazil"
                    ],
                    [
                      "Brunei Darussalam"
                    ],
                    [
                      "Bulgaria"
                    ],
                    [
                      "Burkina Faso"
                    ],
                    [
                      "Burundi"
                    ],
                    [
                      "Cabo Verde"
                    ],
                    [
                      "Cambodia"
                    ],
                    [
                      "Cameroon"
                    ],
                    [
                      "Canada"
                    ],
                    [
                      "Central African Republic"
                    ],
                    [
                      "Chad"
                    ],
                    [
                      "Chile"
                    ],
                    [
                      "China"
                    ],
                    [
                      "Colombia"
                    ],
                    [
                      "Comoros"
                    ],
                    [
                      "Costa Rica"
                    ],
                    [
                      "Croatia"
                    ],
                    [
                      "Cyprus"
                    ],
                    [
                      "Czech Republic"
                    ],
                    [
                      "Denmark"
                    ],
                    [
                      "Djibouti"
                    ],
                    [
                      "Dominica"
                    ],
                    [
                      "Dominican Republic"
                    ],
                    [
                      "Ecuador"
                    ],
                    [
                      "El Salvador"
                    ],
                    [
                      "Equatorial Guinea"
                    ],
                    [
                      "Eritrea"
                    ],
                    [
                      "Estonia"
                    ],
                    [
                      "Eswatini"
                    ],
                    [
                      "Ethiopia"
                    ],
                    [
                      "Fiji"
                    ],
                    [
                      "Finland"
                    ],
                    [
                      "France"
                    ],
                    [
                      "Gabon"
                    ],
                    [
                      "Georgia"
                    ],
                    [
                      "Germany"
                    ],
                    [
                      "Ghana"
                    ],
                    [
                      "Greece"
                    ],
                    [
                      "Guatemala"
                    ],
                    [
                      "Guinea"
                    ],
                    [
                      "Guinea-Bissau"
                    ],
                    [
                      "Guyana"
                    ],
                    [
                      "Haiti"
                    ],
                    [
                      "Honduras"
                    ],
                    [
                      "Hungary"
                    ],
                    [
                      "Iceland"
                    ],
                    [
                      "India"
                    ],
                    [
                      "Indonesia"
                    ],
                    [
                      "Ireland"
                    ],
                    [
                      "Israel"
                    ],
                    [
                      "Italy"
                    ],
                    [
                      "Jamaica"
                    ],
                    [
                      "Japan"
                    ],
                    [
                      "Jordan"
                    ],
                    [
                      "Kazakhstan"
                    ],
                    [
                      "Kenya"
                    ],
                    [
                      "Kiribati"
                    ],
                    [
                      "Kosovo"
                    ],
                    [
                      "Kuwait"
                    ],
                    [
                      "Kyrgyz Republic"
                    ],
                    [
                      "Latvia"
                    ],
                    [
                      "Lebanon"
                    ],
                    [
                      "Lesotho"
                    ],
                    [
                      "Liberia"
                    ],
                    [
                      "Lithuania"
                    ],
                    [
                      "Luxembourg"
                    ],
                    [
                      "Madagascar"
                    ],
                    [
                      "Malawi"
                    ],
                    [
                      "Malaysia"
                    ],
                    [
                      "Maldives"
                    ],
                    [
                      "Mali"
                    ],
                    [
                      "Malta"
                    ],
                    [
                      "Mauritania"
                    ],
                    [
                      "Mauritius"
                    ],
                    [
                      "Mexico"
                    ],
                    [
                      "Moldova"
                    ],
                    [
                      "Mongolia"
                    ],
                    [
                      "Montenegro"
                    ],
                    [
                      "Morocco"
                    ],
                    [
                      "Mozambique"
                    ],
                    [
                      "Namibia"
                    ],
                    [
                      "Nepal"
                    ],
                    [
                      "Netherlands"
                    ],
                    [
                      "New Zealand"
                    ],
                    [
                      "Nicaragua"
                    ],
                    [
                      "Niger"
                    ],
                    [
                      "Nigeria"
                    ],
                    [
                      "North Macedonia"
                    ],
                    [
                      "Norway"
                    ],
                    [
                      "Oman"
                    ],
                    [
                      "Pakistan"
                    ],
                    [
                      "Panama"
                    ],
                    [
                      "Papua New Guinea"
                    ],
                    [
                      "Paraguay"
                    ],
                    [
                      "Peru"
                    ],
                    [
                      "Philippines"
                    ],
                    [
                      "Poland"
                    ],
                    [
                      "Portugal"
                    ],
                    [
                      "Qatar"
                    ],
                    [
                      "Romania"
                    ],
                    [
                      "Rwanda"
                    ],
                    [
                      "Samoa"
                    ],
                    [
                      "Saudi Arabia"
                    ],
                    [
                      "Senegal"
                    ],
                    [
                      "Serbia"
                    ],
                    [
                      "Seychelles"
                    ],
                    [
                      "Sierra Leone"
                    ],
                    [
                      "Singapore"
                    ],
                    [
                      "Slovak Republic"
                    ],
                    [
                      "Slovenia"
                    ],
                    [
                      "Solomon Islands"
                    ],
                    [
                      "South Africa"
                    ],
                    [
                      "Spain"
                    ],
                    [
                      "Sri Lanka"
                    ],
                    [
                      "Sudan"
                    ],
                    [
                      "Suriname"
                    ],
                    [
                      "Sweden"
                    ],
                    [
                      "Switzerland"
                    ],
                    [
                      "Tajikistan"
                    ],
                    [
                      "Tanzania"
                    ],
                    [
                      "Thailand"
                    ],
                    [
                      "Timor-Leste"
                    ],
                    [
                      "Togo"
                    ],
                    [
                      "Tonga"
                    ],
                    [
                      "Trinidad and Tobago"
                    ],
                    [
                      "Tunisia"
                    ],
                    [
                      "Turkey"
                    ],
                    [
                      "Turkmenistan"
                    ],
                    [
                      "Uganda"
                    ],
                    [
                      "Ukraine"
                    ],
                    [
                      "United Arab Emirates"
                    ],
                    [
                      "United Kingdom"
                    ],
                    [
                      "United States"
                    ],
                    [
                      "Uruguay"
                    ],
                    [
                      "Uzbekistan"
                    ],
                    [
                      "Vanuatu"
                    ],
                    [
                      "Vietnam"
                    ],
                    [
                      "Zambia"
                    ],
                    [
                      "Zimbabwe"
                    ]
                  ],
                  "hovertemplate": "Score=%{x}<br>Value=%{y}<br>Country=%{customdata[0]}<extra></extra>",
                  "legendgroup": "",
                  "marker": {
                    "color": "#636efa",
                    "symbol": "circle"
                  },
                  "mode": "markers",
                  "name": "",
                  "orientation": "v",
                  "showlegend": false,
                  "type": "scatter",
                  "x": [
                    51.5,
                    66.5,
                    46.2,
                    50.6,
                    52.2,
                    67.7,
                    80.9,
                    72,
                    65.4,
                    66.4,
                    55.6,
                    64.7,
                    57.9,
                    67.3,
                    55.4,
                    55.3,
                    62.9,
                    42.3,
                    61.9,
                    69.5,
                    51.9,
                    65.1,
                    69,
                    59.4,
                    48.9,
                    63.1,
                    57.8,
                    52.4,
                    77.7,
                    49.1,
                    49.9,
                    75.4,
                    58.4,
                    67.3,
                    55.4,
                    65.3,
                    61.4,
                    68.1,
                    73.7,
                    76.7,
                    47.1,
                    63.6,
                    61,
                    46.9,
                    61.8,
                    41,
                    38.9,
                    76.6,
                    54.7,
                    53.6,
                    62.2,
                    74.9,
                    63.8,
                    56.3,
                    75.9,
                    73.5,
                    57.5,
                    57.7,
                    62.6,
                    55.7,
                    54,
                    56.8,
                    52.7,
                    60.2,
                    65,
                    77.1,
                    55.2,
                    65.8,
                    80.5,
                    72.8,
                    62.2,
                    68.6,
                    72.1,
                    66.5,
                    65.4,
                    55.1,
                    47.3,
                    67,
                    60.8,
                    62.3,
                    70.4,
                    51.1,
                    53.1,
                    49.7,
                    74.2,
                    75.9,
                    56.6,
                    51.4,
                    74,
                    53.2,
                    58.1,
                    68.6,
                    55.7,
                    73,
                    64.7,
                    59.1,
                    55.4,
                    60.5,
                    62.9,
                    48.6,
                    58.7,
                    53.8,
                    76.8,
                    84.4,
                    57.7,
                    51.6,
                    57.3,
                    71.1,
                    73,
                    61,
                    55,
                    67.2,
                    58.4,
                    61.8,
                    67.8,
                    63.8,
                    67.8,
                    65.3,
                    72.6,
                    68.6,
                    71.1,
                    62.2,
                    60.7,
                    56.3,
                    63.9,
                    61.4,
                    47.5,
                    89.4,
                    65,
                    65.5,
                    54.6,
                    58.3,
                    65.7,
                    56.4,
                    47.7,
                    48.1,
                    75.2,
                    81.9,
                    55.6,
                    60.2,
                    68.3,
                    44.2,
                    50.3,
                    57.7,
                    57,
                    55.4,
                    64.6,
                    48.4,
                    59.7,
                    52.3,
                    77.6,
                    78.9,
                    76.8,
                    68.6,
                    53.3,
                    56.4,
                    55.3,
                    53.6,
                    40.4
                  ],
                  "xaxis": "x",
                  "y": [
                    2152.4,
                    14013,
                    12009.2,
                    6952.4,
                    22999.3,
                    14231.2,
                    51748.4,
                    58076.3,
                    15052.8,
                    47228.1,
                    4954.8,
                    16300.4,
                    20094.5,
                    54269.5,
                    7558.6,
                    3426.3,
                    12366.5,
                    9093.4,
                    15728.2,
                    17039.3,
                    15388.2,
                    64724.1,
                    24523.8,
                    2267.5,
                    783.5,
                    7475.1,
                    4574.4,
                    3901.1,
                    49309.5,
                    985.1,
                    1646.4,
                    25395.5,
                    16653.3,
                    15688.6,
                    3188.2,
                    22511.3,
                    30576.6,
                    42384.2,
                    42847,
                    58701,
                    5768.8,
                    12892,
                    19191.6,
                    11851.5,
                    9147.3,
                    19285,
                    1625.5,
                    37850.1,
                    9018.9,
                    2315.3,
                    14263,
                    50321.5,
                    49072.4,
                    15577.9,
                    15623.2,
                    55652.9,
                    5774.3,
                    30356.3,
                    9019.3,
                    2675.6,
                    2021.3,
                    13635.4,
                    3203.3,
                    5978.8,
                    33514.9,
                    58290.1,
                    6997.9,
                    12311.5,
                    87379.7,
                    40004,
                    44334.2,
                    10190.5,
                    42616.6,
                    10497.3,
                    27466.2,
                    4641.1,
                    2439.4,
                    11797.1,
                    51962,
                    5480.7,
                    31883.3,
                    15179.6,
                    2693.2,
                    1531.9,
                    38540.8,
                    117341.9,
                    1687.1,
                    1602.1,
                    29623.4,
                    20335.6,
                    2419.9,
                    45937.7,
                    5570,
                    23836.9,
                    19863,
                    13577.4,
                    13014.1,
                    23097.3,
                    7865.9,
                    1336,
                    10227.6,
                    4119.9,
                    59004.3,
                    45437.9,
                    5682.2,
                    1276.2,
                    5352.7,
                    17565.2,
                    66799.2,
                    32607,
                    4896.4,
                    32769.9,
                    4474.7,
                    13149,
                    13397.3,
                    9291.7,
                    33797.8,
                    36172.1,
                    93771.1,
                    31901.4,
                    2321.7,
                    6912,
                    48948.2,
                    3503.6,
                    18842.5,
                    28778.8,
                    1777.3,
                    102573.4,
                    31966.6,
                    40670.9,
                    2773.5,
                    14289.8,
                    41696.3,
                    13622.9,
                    4350.1,
                    19841.8,
                    54598.8,
                    72033.9,
                    3732.9,
                    2773.2,
                    19233.9,
                    3780,
                    2211.6,
                    6647.9,
                    26920.1,
                    11900,
                    26867.5,
                    16195.5,
                    2275.2,
                    13346.5,
                    71150.5,
                    49041.5,
                    65279.5,
                    24006.8,
                    7658.9,
                    3269.9,
                    8381.2,
                    3617.2,
                    3783.5
                  ],
                  "yaxis": "y"
                }
              ],
              "layout": {
                "legend": {
                  "tracegroupgap": 0
                },
                "margin": {
                  "t": 60
                },
                "template": {
                  "data": {
                    "bar": [
                      {
                        "error_x": {
                          "color": "#2a3f5f"
                        },
                        "error_y": {
                          "color": "#2a3f5f"
                        },
                        "marker": {
                          "line": {
                            "color": "#E5ECF6",
                            "width": 0.5
                          },
                          "pattern": {
                            "fillmode": "overlay",
                            "size": 10,
                            "solidity": 0.2
                          }
                        },
                        "type": "bar"
                      }
                    ],
                    "barpolar": [
                      {
                        "marker": {
                          "line": {
                            "color": "#E5ECF6",
                            "width": 0.5
                          },
                          "pattern": {
                            "fillmode": "overlay",
                            "size": 10,
                            "solidity": 0.2
                          }
                        },
                        "type": "barpolar"
                      }
                    ],
                    "carpet": [
                      {
                        "aaxis": {
                          "endlinecolor": "#2a3f5f",
                          "gridcolor": "white",
                          "linecolor": "white",
                          "minorgridcolor": "white",
                          "startlinecolor": "#2a3f5f"
                        },
                        "baxis": {
                          "endlinecolor": "#2a3f5f",
                          "gridcolor": "white",
                          "linecolor": "white",
                          "minorgridcolor": "white",
                          "startlinecolor": "#2a3f5f"
                        },
                        "type": "carpet"
                      }
                    ],
                    "choropleth": [
                      {
                        "colorbar": {
                          "outlinewidth": 0,
                          "ticks": ""
                        },
                        "type": "choropleth"
                      }
                    ],
                    "contour": [
                      {
                        "colorbar": {
                          "outlinewidth": 0,
                          "ticks": ""
                        },
                        "colorscale": [
                          [
                            0,
                            "#0d0887"
                          ],
                          [
                            0.1111111111111111,
                            "#46039f"
                          ],
                          [
                            0.2222222222222222,
                            "#7201a8"
                          ],
                          [
                            0.3333333333333333,
                            "#9c179e"
                          ],
                          [
                            0.4444444444444444,
                            "#bd3786"
                          ],
                          [
                            0.5555555555555556,
                            "#d8576b"
                          ],
                          [
                            0.6666666666666666,
                            "#ed7953"
                          ],
                          [
                            0.7777777777777778,
                            "#fb9f3a"
                          ],
                          [
                            0.8888888888888888,
                            "#fdca26"
                          ],
                          [
                            1,
                            "#f0f921"
                          ]
                        ],
                        "type": "contour"
                      }
                    ],
                    "contourcarpet": [
                      {
                        "colorbar": {
                          "outlinewidth": 0,
                          "ticks": ""
                        },
                        "type": "contourcarpet"
                      }
                    ],
                    "heatmap": [
                      {
                        "colorbar": {
                          "outlinewidth": 0,
                          "ticks": ""
                        },
                        "colorscale": [
                          [
                            0,
                            "#0d0887"
                          ],
                          [
                            0.1111111111111111,
                            "#46039f"
                          ],
                          [
                            0.2222222222222222,
                            "#7201a8"
                          ],
                          [
                            0.3333333333333333,
                            "#9c179e"
                          ],
                          [
                            0.4444444444444444,
                            "#bd3786"
                          ],
                          [
                            0.5555555555555556,
                            "#d8576b"
                          ],
                          [
                            0.6666666666666666,
                            "#ed7953"
                          ],
                          [
                            0.7777777777777778,
                            "#fb9f3a"
                          ],
                          [
                            0.8888888888888888,
                            "#fdca26"
                          ],
                          [
                            1,
                            "#f0f921"
                          ]
                        ],
                        "type": "heatmap"
                      }
                    ],
                    "heatmapgl": [
                      {
                        "colorbar": {
                          "outlinewidth": 0,
                          "ticks": ""
                        },
                        "colorscale": [
                          [
                            0,
                            "#0d0887"
                          ],
                          [
                            0.1111111111111111,
                            "#46039f"
                          ],
                          [
                            0.2222222222222222,
                            "#7201a8"
                          ],
                          [
                            0.3333333333333333,
                            "#9c179e"
                          ],
                          [
                            0.4444444444444444,
                            "#bd3786"
                          ],
                          [
                            0.5555555555555556,
                            "#d8576b"
                          ],
                          [
                            0.6666666666666666,
                            "#ed7953"
                          ],
                          [
                            0.7777777777777778,
                            "#fb9f3a"
                          ],
                          [
                            0.8888888888888888,
                            "#fdca26"
                          ],
                          [
                            1,
                            "#f0f921"
                          ]
                        ],
                        "type": "heatmapgl"
                      }
                    ],
                    "histogram": [
                      {
                        "marker": {
                          "pattern": {
                            "fillmode": "overlay",
                            "size": 10,
                            "solidity": 0.2
                          }
                        },
                        "type": "histogram"
                      }
                    ],
                    "histogram2d": [
                      {
                        "colorbar": {
                          "outlinewidth": 0,
                          "ticks": ""
                        },
                        "colorscale": [
                          [
                            0,
                            "#0d0887"
                          ],
                          [
                            0.1111111111111111,
                            "#46039f"
                          ],
                          [
                            0.2222222222222222,
                            "#7201a8"
                          ],
                          [
                            0.3333333333333333,
                            "#9c179e"
                          ],
                          [
                            0.4444444444444444,
                            "#bd3786"
                          ],
                          [
                            0.5555555555555556,
                            "#d8576b"
                          ],
                          [
                            0.6666666666666666,
                            "#ed7953"
                          ],
                          [
                            0.7777777777777778,
                            "#fb9f3a"
                          ],
                          [
                            0.8888888888888888,
                            "#fdca26"
                          ],
                          [
                            1,
                            "#f0f921"
                          ]
                        ],
                        "type": "histogram2d"
                      }
                    ],
                    "histogram2dcontour": [
                      {
                        "colorbar": {
                          "outlinewidth": 0,
                          "ticks": ""
                        },
                        "colorscale": [
                          [
                            0,
                            "#0d0887"
                          ],
                          [
                            0.1111111111111111,
                            "#46039f"
                          ],
                          [
                            0.2222222222222222,
                            "#7201a8"
                          ],
                          [
                            0.3333333333333333,
                            "#9c179e"
                          ],
                          [
                            0.4444444444444444,
                            "#bd3786"
                          ],
                          [
                            0.5555555555555556,
                            "#d8576b"
                          ],
                          [
                            0.6666666666666666,
                            "#ed7953"
                          ],
                          [
                            0.7777777777777778,
                            "#fb9f3a"
                          ],
                          [
                            0.8888888888888888,
                            "#fdca26"
                          ],
                          [
                            1,
                            "#f0f921"
                          ]
                        ],
                        "type": "histogram2dcontour"
                      }
                    ],
                    "mesh3d": [
                      {
                        "colorbar": {
                          "outlinewidth": 0,
                          "ticks": ""
                        },
                        "type": "mesh3d"
                      }
                    ],
                    "parcoords": [
                      {
                        "line": {
                          "colorbar": {
                            "outlinewidth": 0,
                            "ticks": ""
                          }
                        },
                        "type": "parcoords"
                      }
                    ],
                    "pie": [
                      {
                        "automargin": true,
                        "type": "pie"
                      }
                    ],
                    "scatter": [
                      {
                        "marker": {
                          "colorbar": {
                            "outlinewidth": 0,
                            "ticks": ""
                          }
                        },
                        "type": "scatter"
                      }
                    ],
                    "scatter3d": [
                      {
                        "line": {
                          "colorbar": {
                            "outlinewidth": 0,
                            "ticks": ""
                          }
                        },
                        "marker": {
                          "colorbar": {
                            "outlinewidth": 0,
                            "ticks": ""
                          }
                        },
                        "type": "scatter3d"
                      }
                    ],
                    "scattercarpet": [
                      {
                        "marker": {
                          "colorbar": {
                            "outlinewidth": 0,
                            "ticks": ""
                          }
                        },
                        "type": "scattercarpet"
                      }
                    ],
                    "scattergeo": [
                      {
                        "marker": {
                          "colorbar": {
                            "outlinewidth": 0,
                            "ticks": ""
                          }
                        },
                        "type": "scattergeo"
                      }
                    ],
                    "scattergl": [
                      {
                        "marker": {
                          "colorbar": {
                            "outlinewidth": 0,
                            "ticks": ""
                          }
                        },
                        "type": "scattergl"
                      }
                    ],
                    "scattermapbox": [
                      {
                        "marker": {
                          "colorbar": {
                            "outlinewidth": 0,
                            "ticks": ""
                          }
                        },
                        "type": "scattermapbox"
                      }
                    ],
                    "scatterpolar": [
                      {
                        "marker": {
                          "colorbar": {
                            "outlinewidth": 0,
                            "ticks": ""
                          }
                        },
                        "type": "scatterpolar"
                      }
                    ],
                    "scatterpolargl": [
                      {
                        "marker": {
                          "colorbar": {
                            "outlinewidth": 0,
                            "ticks": ""
                          }
                        },
                        "type": "scatterpolargl"
                      }
                    ],
                    "scatterternary": [
                      {
                        "marker": {
                          "colorbar": {
                            "outlinewidth": 0,
                            "ticks": ""
                          }
                        },
                        "type": "scatterternary"
                      }
                    ],
                    "surface": [
                      {
                        "colorbar": {
                          "outlinewidth": 0,
                          "ticks": ""
                        },
                        "colorscale": [
                          [
                            0,
                            "#0d0887"
                          ],
                          [
                            0.1111111111111111,
                            "#46039f"
                          ],
                          [
                            0.2222222222222222,
                            "#7201a8"
                          ],
                          [
                            0.3333333333333333,
                            "#9c179e"
                          ],
                          [
                            0.4444444444444444,
                            "#bd3786"
                          ],
                          [
                            0.5555555555555556,
                            "#d8576b"
                          ],
                          [
                            0.6666666666666666,
                            "#ed7953"
                          ],
                          [
                            0.7777777777777778,
                            "#fb9f3a"
                          ],
                          [
                            0.8888888888888888,
                            "#fdca26"
                          ],
                          [
                            1,
                            "#f0f921"
                          ]
                        ],
                        "type": "surface"
                      }
                    ],
                    "table": [
                      {
                        "cells": {
                          "fill": {
                            "color": "#EBF0F8"
                          },
                          "line": {
                            "color": "white"
                          }
                        },
                        "header": {
                          "fill": {
                            "color": "#C8D4E3"
                          },
                          "line": {
                            "color": "white"
                          }
                        },
                        "type": "table"
                      }
                    ]
                  },
                  "layout": {
                    "annotationdefaults": {
                      "arrowcolor": "#2a3f5f",
                      "arrowhead": 0,
                      "arrowwidth": 1
                    },
                    "autotypenumbers": "strict",
                    "coloraxis": {
                      "colorbar": {
                        "outlinewidth": 0,
                        "ticks": ""
                      }
                    },
                    "colorscale": {
                      "diverging": [
                        [
                          0,
                          "#8e0152"
                        ],
                        [
                          0.1,
                          "#c51b7d"
                        ],
                        [
                          0.2,
                          "#de77ae"
                        ],
                        [
                          0.3,
                          "#f1b6da"
                        ],
                        [
                          0.4,
                          "#fde0ef"
                        ],
                        [
                          0.5,
                          "#f7f7f7"
                        ],
                        [
                          0.6,
                          "#e6f5d0"
                        ],
                        [
                          0.7,
                          "#b8e186"
                        ],
                        [
                          0.8,
                          "#7fbc41"
                        ],
                        [
                          0.9,
                          "#4d9221"
                        ],
                        [
                          1,
                          "#276419"
                        ]
                      ],
                      "sequential": [
                        [
                          0,
                          "#0d0887"
                        ],
                        [
                          0.1111111111111111,
                          "#46039f"
                        ],
                        [
                          0.2222222222222222,
                          "#7201a8"
                        ],
                        [
                          0.3333333333333333,
                          "#9c179e"
                        ],
                        [
                          0.4444444444444444,
                          "#bd3786"
                        ],
                        [
                          0.5555555555555556,
                          "#d8576b"
                        ],
                        [
                          0.6666666666666666,
                          "#ed7953"
                        ],
                        [
                          0.7777777777777778,
                          "#fb9f3a"
                        ],
                        [
                          0.8888888888888888,
                          "#fdca26"
                        ],
                        [
                          1,
                          "#f0f921"
                        ]
                      ],
                      "sequentialminus": [
                        [
                          0,
                          "#0d0887"
                        ],
                        [
                          0.1111111111111111,
                          "#46039f"
                        ],
                        [
                          0.2222222222222222,
                          "#7201a8"
                        ],
                        [
                          0.3333333333333333,
                          "#9c179e"
                        ],
                        [
                          0.4444444444444444,
                          "#bd3786"
                        ],
                        [
                          0.5555555555555556,
                          "#d8576b"
                        ],
                        [
                          0.6666666666666666,
                          "#ed7953"
                        ],
                        [
                          0.7777777777777778,
                          "#fb9f3a"
                        ],
                        [
                          0.8888888888888888,
                          "#fdca26"
                        ],
                        [
                          1,
                          "#f0f921"
                        ]
                      ]
                    },
                    "colorway": [
                      "#636efa",
                      "#EF553B",
                      "#00cc96",
                      "#ab63fa",
                      "#FFA15A",
                      "#19d3f3",
                      "#FF6692",
                      "#B6E880",
                      "#FF97FF",
                      "#FECB52"
                    ],
                    "font": {
                      "color": "#2a3f5f"
                    },
                    "geo": {
                      "bgcolor": "white",
                      "lakecolor": "white",
                      "landcolor": "#E5ECF6",
                      "showlakes": true,
                      "showland": true,
                      "subunitcolor": "white"
                    },
                    "hoverlabel": {
                      "align": "left"
                    },
                    "hovermode": "closest",
                    "mapbox": {
                      "style": "light"
                    },
                    "paper_bgcolor": "white",
                    "plot_bgcolor": "#E5ECF6",
                    "polar": {
                      "angularaxis": {
                        "gridcolor": "white",
                        "linecolor": "white",
                        "ticks": ""
                      },
                      "bgcolor": "#E5ECF6",
                      "radialaxis": {
                        "gridcolor": "white",
                        "linecolor": "white",
                        "ticks": ""
                      }
                    },
                    "scene": {
                      "xaxis": {
                        "backgroundcolor": "#E5ECF6",
                        "gridcolor": "white",
                        "gridwidth": 2,
                        "linecolor": "white",
                        "showbackground": true,
                        "ticks": "",
                        "zerolinecolor": "white"
                      },
                      "yaxis": {
                        "backgroundcolor": "#E5ECF6",
                        "gridcolor": "white",
                        "gridwidth": 2,
                        "linecolor": "white",
                        "showbackground": true,
                        "ticks": "",
                        "zerolinecolor": "white"
                      },
                      "zaxis": {
                        "backgroundcolor": "#E5ECF6",
                        "gridcolor": "white",
                        "gridwidth": 2,
                        "linecolor": "white",
                        "showbackground": true,
                        "ticks": "",
                        "zerolinecolor": "white"
                      }
                    },
                    "shapedefaults": {
                      "line": {
                        "color": "#2a3f5f"
                      }
                    },
                    "ternary": {
                      "aaxis": {
                        "gridcolor": "white",
                        "linecolor": "white",
                        "ticks": ""
                      },
                      "baxis": {
                        "gridcolor": "white",
                        "linecolor": "white",
                        "ticks": ""
                      },
                      "bgcolor": "#E5ECF6",
                      "caxis": {
                        "gridcolor": "white",
                        "linecolor": "white",
                        "ticks": ""
                      }
                    },
                    "title": {
                      "x": 0.05
                    },
                    "xaxis": {
                      "automargin": true,
                      "gridcolor": "white",
                      "linecolor": "white",
                      "ticks": "",
                      "title": {
                        "standoff": 15
                      },
                      "zerolinecolor": "white",
                      "zerolinewidth": 2
                    },
                    "yaxis": {
                      "automargin": true,
                      "gridcolor": "white",
                      "linecolor": "white",
                      "ticks": "",
                      "title": {
                        "standoff": 15
                      },
                      "zerolinecolor": "white",
                      "zerolinewidth": 2
                    }
                  }
                },
                "xaxis": {
                  "anchor": "y",
                  "domain": [
                    0,
                    1
                  ],
                  "title": {
                    "text": "Score"
                  },
                  "type": "log"
                },
                "yaxis": {
                  "anchor": "x",
                  "domain": [
                    0,
                    1
                  ],
                  "title": {
                    "text": "Value"
                  }
                }
              }
            },
            "text/html": [
              "<div>                            <div id=\"6fdbb225-8986-4435-aba4-98da03d663ef\" class=\"plotly-graph-div\" style=\"height:525px; width:100%;\"></div>            <script type=\"text/javascript\">                require([\"plotly\"], function(Plotly) {                    window.PLOTLYENV=window.PLOTLYENV || {};                                    if (document.getElementById(\"6fdbb225-8986-4435-aba4-98da03d663ef\")) {                    Plotly.newPlot(                        \"6fdbb225-8986-4435-aba4-98da03d663ef\",                        [{\"customdata\":[[\"Afghanistan\"],[\"Albania\"],[\"Algeria\"],[\"Angola\"],[\"Argentina\"],[\"Armenia\"],[\"Australia\"],[\"Austria\"],[\"Azerbaijan\"],[\"Bahrain\"],[\"Bangladesh\"],[\"Barbados\"],[\"Belarus\"],[\"Belgium\"],[\"Belize\"],[\"Benin\"],[\"Bhutan\"],[\"Bolivia\"],[\"Bosnia and Herzegovina\"],[\"Botswana\"],[\"Brazil\"],[\"Brunei Darussalam\"],[\"Bulgaria\"],[\"Burkina Faso\"],[\"Burundi\"],[\"Cabo Verde\"],[\"Cambodia\"],[\"Cameroon\"],[\"Canada\"],[\"Central African Republic\"],[\"Chad\"],[\"Chile\"],[\"China\"],[\"Colombia\"],[\"Comoros\"],[\"Costa Rica\"],[\"Croatia\"],[\"Cyprus\"],[\"Czech Republic\"],[\"Denmark\"],[\"Djibouti\"],[\"Dominica\"],[\"Dominican Republic\"],[\"Ecuador\"],[\"El Salvador\"],[\"Equatorial Guinea\"],[\"Eritrea\"],[\"Estonia\"],[\"Eswatini\"],[\"Ethiopia\"],[\"Fiji\"],[\"Finland\"],[\"France\"],[\"Gabon\"],[\"Georgia\"],[\"Germany\"],[\"Ghana\"],[\"Greece\"],[\"Guatemala\"],[\"Guinea\"],[\"Guinea-Bissau\"],[\"Guyana\"],[\"Haiti\"],[\"Honduras\"],[\"Hungary\"],[\"Iceland\"],[\"India\"],[\"Indonesia\"],[\"Ireland\"],[\"Israel\"],[\"Italy\"],[\"Jamaica\"],[\"Japan\"],[\"Jordan\"],[\"Kazakhstan\"],[\"Kenya\"],[\"Kiribati\"],[\"Kosovo\"],[\"Kuwait\"],[\"Kyrgyz Republic\"],[\"Latvia\"],[\"Lebanon\"],[\"Lesotho\"],[\"Liberia\"],[\"Lithuania\"],[\"Luxembourg\"],[\"Madagascar\"],[\"Malawi\"],[\"Malaysia\"],[\"Maldives\"],[\"Mali\"],[\"Malta\"],[\"Mauritania\"],[\"Mauritius\"],[\"Mexico\"],[\"Moldova\"],[\"Mongolia\"],[\"Montenegro\"],[\"Morocco\"],[\"Mozambique\"],[\"Namibia\"],[\"Nepal\"],[\"Netherlands\"],[\"New Zealand\"],[\"Nicaragua\"],[\"Niger\"],[\"Nigeria\"],[\"North Macedonia\"],[\"Norway\"],[\"Oman\"],[\"Pakistan\"],[\"Panama\"],[\"Papua New Guinea\"],[\"Paraguay\"],[\"Peru\"],[\"Philippines\"],[\"Poland\"],[\"Portugal\"],[\"Qatar\"],[\"Romania\"],[\"Rwanda\"],[\"Samoa\"],[\"Saudi Arabia\"],[\"Senegal\"],[\"Serbia\"],[\"Seychelles\"],[\"Sierra Leone\"],[\"Singapore\"],[\"Slovak Republic\"],[\"Slovenia\"],[\"Solomon Islands\"],[\"South Africa\"],[\"Spain\"],[\"Sri Lanka\"],[\"Sudan\"],[\"Suriname\"],[\"Sweden\"],[\"Switzerland\"],[\"Tajikistan\"],[\"Tanzania\"],[\"Thailand\"],[\"Timor-Leste\"],[\"Togo\"],[\"Tonga\"],[\"Trinidad and Tobago\"],[\"Tunisia\"],[\"Turkey\"],[\"Turkmenistan\"],[\"Uganda\"],[\"Ukraine\"],[\"United Arab Emirates\"],[\"United Kingdom\"],[\"United States\"],[\"Uruguay\"],[\"Uzbekistan\"],[\"Vanuatu\"],[\"Vietnam\"],[\"Zambia\"],[\"Zimbabwe\"]],\"hovertemplate\":\"Score=%{x}<br>Value=%{y}<br>Country=%{customdata[0]}<extra></extra>\",\"legendgroup\":\"\",\"marker\":{\"color\":\"#636efa\",\"symbol\":\"circle\"},\"mode\":\"markers\",\"name\":\"\",\"orientation\":\"v\",\"showlegend\":false,\"x\":[51.5,66.5,46.2,50.6,52.2,67.7,80.9,72.0,65.4,66.4,55.6,64.7,57.9,67.3,55.4,55.3,62.9,42.3,61.9,69.5,51.9,65.1,69.0,59.4,48.9,63.1,57.8,52.4,77.7,49.1,49.9,75.4,58.4,67.3,55.4,65.3,61.4,68.1,73.7,76.7,47.1,63.6,61.0,46.9,61.8,41.0,38.9,76.6,54.7,53.6,62.2,74.9,63.8,56.3,75.9,73.5,57.5,57.7,62.6,55.7,54.0,56.8,52.7,60.2,65.0,77.1,55.2,65.8,80.5,72.8,62.2,68.6,72.1,66.5,65.4,55.1,47.3,67.0,60.8,62.3,70.4,51.1,53.1,49.7,74.2,75.9,56.6,51.4,74.0,53.2,58.1,68.6,55.7,73.0,64.7,59.1,55.4,60.5,62.9,48.6,58.7,53.8,76.8,84.4,57.7,51.6,57.3,71.1,73.0,61.0,55.0,67.2,58.4,61.8,67.8,63.8,67.8,65.3,72.6,68.6,71.1,62.2,60.7,56.3,63.9,61.4,47.5,89.4,65.0,65.5,54.6,58.3,65.7,56.4,47.7,48.1,75.2,81.9,55.6,60.2,68.3,44.2,50.3,57.7,57.0,55.4,64.6,48.4,59.7,52.3,77.6,78.9,76.8,68.6,53.3,56.4,55.3,53.6,40.4],\"xaxis\":\"x\",\"y\":[2152.4,14013.0,12009.2,6952.4,22999.3,14231.2,51748.4,58076.3,15052.8,47228.1,4954.8,16300.4,20094.5,54269.5,7558.6,3426.3,12366.5,9093.4,15728.2,17039.3,15388.2,64724.1,24523.8,2267.5,783.5,7475.1,4574.4,3901.1,49309.5,985.1,1646.4,25395.5,16653.3,15688.6,3188.2,22511.3,30576.6,42384.2,42847.0,58701.0,5768.8,12892.0,19191.6,11851.5,9147.3,19285.0,1625.5,37850.1,9018.9,2315.3,14263.0,50321.5,49072.4,15577.9,15623.2,55652.9,5774.3,30356.3,9019.3,2675.6,2021.3,13635.4,3203.3,5978.8,33514.9,58290.1,6997.9,12311.5,87379.7,40004.0,44334.2,10190.5,42616.6,10497.3,27466.2,4641.1,2439.4,11797.1,51962.0,5480.7,31883.3,15179.6,2693.2,1531.9,38540.8,117341.9,1687.1,1602.1,29623.4,20335.6,2419.9,45937.7,5570.0,23836.9,19863.0,13577.4,13014.1,23097.3,7865.9,1336.0,10227.6,4119.9,59004.3,45437.9,5682.2,1276.2,5352.7,17565.2,66799.2,32607.0,4896.4,32769.9,4474.7,13149.0,13397.3,9291.7,33797.8,36172.1,93771.1,31901.4,2321.7,6912.0,48948.2,3503.6,18842.5,28778.8,1777.3,102573.4,31966.6,40670.9,2773.5,14289.8,41696.3,13622.9,4350.1,19841.8,54598.8,72033.9,3732.9,2773.2,19233.9,3780.0,2211.6,6647.9,26920.1,11900.0,26867.5,16195.5,2275.2,13346.5,71150.5,49041.5,65279.5,24006.8,7658.9,3269.9,8381.2,3617.2,3783.5],\"yaxis\":\"y\",\"type\":\"scatter\"}],                        {\"template\":{\"data\":{\"bar\":[{\"error_x\":{\"color\":\"#2a3f5f\"},\"error_y\":{\"color\":\"#2a3f5f\"},\"marker\":{\"line\":{\"color\":\"#E5ECF6\",\"width\":0.5},\"pattern\":{\"fillmode\":\"overlay\",\"size\":10,\"solidity\":0.2}},\"type\":\"bar\"}],\"barpolar\":[{\"marker\":{\"line\":{\"color\":\"#E5ECF6\",\"width\":0.5},\"pattern\":{\"fillmode\":\"overlay\",\"size\":10,\"solidity\":0.2}},\"type\":\"barpolar\"}],\"carpet\":[{\"aaxis\":{\"endlinecolor\":\"#2a3f5f\",\"gridcolor\":\"white\",\"linecolor\":\"white\",\"minorgridcolor\":\"white\",\"startlinecolor\":\"#2a3f5f\"},\"baxis\":{\"endlinecolor\":\"#2a3f5f\",\"gridcolor\":\"white\",\"linecolor\":\"white\",\"minorgridcolor\":\"white\",\"startlinecolor\":\"#2a3f5f\"},\"type\":\"carpet\"}],\"choropleth\":[{\"colorbar\":{\"outlinewidth\":0,\"ticks\":\"\"},\"type\":\"choropleth\"}],\"contour\":[{\"colorbar\":{\"outlinewidth\":0,\"ticks\":\"\"},\"colorscale\":[[0.0,\"#0d0887\"],[0.1111111111111111,\"#46039f\"],[0.2222222222222222,\"#7201a8\"],[0.3333333333333333,\"#9c179e\"],[0.4444444444444444,\"#bd3786\"],[0.5555555555555556,\"#d8576b\"],[0.6666666666666666,\"#ed7953\"],[0.7777777777777778,\"#fb9f3a\"],[0.8888888888888888,\"#fdca26\"],[1.0,\"#f0f921\"]],\"type\":\"contour\"}],\"contourcarpet\":[{\"colorbar\":{\"outlinewidth\":0,\"ticks\":\"\"},\"type\":\"contourcarpet\"}],\"heatmap\":[{\"colorbar\":{\"outlinewidth\":0,\"ticks\":\"\"},\"colorscale\":[[0.0,\"#0d0887\"],[0.1111111111111111,\"#46039f\"],[0.2222222222222222,\"#7201a8\"],[0.3333333333333333,\"#9c179e\"],[0.4444444444444444,\"#bd3786\"],[0.5555555555555556,\"#d8576b\"],[0.6666666666666666,\"#ed7953\"],[0.7777777777777778,\"#fb9f3a\"],[0.8888888888888888,\"#fdca26\"],[1.0,\"#f0f921\"]],\"type\":\"heatmap\"}],\"heatmapgl\":[{\"colorbar\":{\"outlinewidth\":0,\"ticks\":\"\"},\"colorscale\":[[0.0,\"#0d0887\"],[0.1111111111111111,\"#46039f\"],[0.2222222222222222,\"#7201a8\"],[0.3333333333333333,\"#9c179e\"],[0.4444444444444444,\"#bd3786\"],[0.5555555555555556,\"#d8576b\"],[0.6666666666666666,\"#ed7953\"],[0.7777777777777778,\"#fb9f3a\"],[0.8888888888888888,\"#fdca26\"],[1.0,\"#f0f921\"]],\"type\":\"heatmapgl\"}],\"histogram\":[{\"marker\":{\"pattern\":{\"fillmode\":\"overlay\",\"size\":10,\"solidity\":0.2}},\"type\":\"histogram\"}],\"histogram2d\":[{\"colorbar\":{\"outlinewidth\":0,\"ticks\":\"\"},\"colorscale\":[[0.0,\"#0d0887\"],[0.1111111111111111,\"#46039f\"],[0.2222222222222222,\"#7201a8\"],[0.3333333333333333,\"#9c179e\"],[0.4444444444444444,\"#bd3786\"],[0.5555555555555556,\"#d8576b\"],[0.6666666666666666,\"#ed7953\"],[0.7777777777777778,\"#fb9f3a\"],[0.8888888888888888,\"#fdca26\"],[1.0,\"#f0f921\"]],\"type\":\"histogram2d\"}],\"histogram2dcontour\":[{\"colorbar\":{\"outlinewidth\":0,\"ticks\":\"\"},\"colorscale\":[[0.0,\"#0d0887\"],[0.1111111111111111,\"#46039f\"],[0.2222222222222222,\"#7201a8\"],[0.3333333333333333,\"#9c179e\"],[0.4444444444444444,\"#bd3786\"],[0.5555555555555556,\"#d8576b\"],[0.6666666666666666,\"#ed7953\"],[0.7777777777777778,\"#fb9f3a\"],[0.8888888888888888,\"#fdca26\"],[1.0,\"#f0f921\"]],\"type\":\"histogram2dcontour\"}],\"mesh3d\":[{\"colorbar\":{\"outlinewidth\":0,\"ticks\":\"\"},\"type\":\"mesh3d\"}],\"parcoords\":[{\"line\":{\"colorbar\":{\"outlinewidth\":0,\"ticks\":\"\"}},\"type\":\"parcoords\"}],\"pie\":[{\"automargin\":true,\"type\":\"pie\"}],\"scatter\":[{\"marker\":{\"colorbar\":{\"outlinewidth\":0,\"ticks\":\"\"}},\"type\":\"scatter\"}],\"scatter3d\":[{\"line\":{\"colorbar\":{\"outlinewidth\":0,\"ticks\":\"\"}},\"marker\":{\"colorbar\":{\"outlinewidth\":0,\"ticks\":\"\"}},\"type\":\"scatter3d\"}],\"scattercarpet\":[{\"marker\":{\"colorbar\":{\"outlinewidth\":0,\"ticks\":\"\"}},\"type\":\"scattercarpet\"}],\"scattergeo\":[{\"marker\":{\"colorbar\":{\"outlinewidth\":0,\"ticks\":\"\"}},\"type\":\"scattergeo\"}],\"scattergl\":[{\"marker\":{\"colorbar\":{\"outlinewidth\":0,\"ticks\":\"\"}},\"type\":\"scattergl\"}],\"scattermapbox\":[{\"marker\":{\"colorbar\":{\"outlinewidth\":0,\"ticks\":\"\"}},\"type\":\"scattermapbox\"}],\"scatterpolar\":[{\"marker\":{\"colorbar\":{\"outlinewidth\":0,\"ticks\":\"\"}},\"type\":\"scatterpolar\"}],\"scatterpolargl\":[{\"marker\":{\"colorbar\":{\"outlinewidth\":0,\"ticks\":\"\"}},\"type\":\"scatterpolargl\"}],\"scatterternary\":[{\"marker\":{\"colorbar\":{\"outlinewidth\":0,\"ticks\":\"\"}},\"type\":\"scatterternary\"}],\"surface\":[{\"colorbar\":{\"outlinewidth\":0,\"ticks\":\"\"},\"colorscale\":[[0.0,\"#0d0887\"],[0.1111111111111111,\"#46039f\"],[0.2222222222222222,\"#7201a8\"],[0.3333333333333333,\"#9c179e\"],[0.4444444444444444,\"#bd3786\"],[0.5555555555555556,\"#d8576b\"],[0.6666666666666666,\"#ed7953\"],[0.7777777777777778,\"#fb9f3a\"],[0.8888888888888888,\"#fdca26\"],[1.0,\"#f0f921\"]],\"type\":\"surface\"}],\"table\":[{\"cells\":{\"fill\":{\"color\":\"#EBF0F8\"},\"line\":{\"color\":\"white\"}},\"header\":{\"fill\":{\"color\":\"#C8D4E3\"},\"line\":{\"color\":\"white\"}},\"type\":\"table\"}]},\"layout\":{\"annotationdefaults\":{\"arrowcolor\":\"#2a3f5f\",\"arrowhead\":0,\"arrowwidth\":1},\"autotypenumbers\":\"strict\",\"coloraxis\":{\"colorbar\":{\"outlinewidth\":0,\"ticks\":\"\"}},\"colorscale\":{\"diverging\":[[0,\"#8e0152\"],[0.1,\"#c51b7d\"],[0.2,\"#de77ae\"],[0.3,\"#f1b6da\"],[0.4,\"#fde0ef\"],[0.5,\"#f7f7f7\"],[0.6,\"#e6f5d0\"],[0.7,\"#b8e186\"],[0.8,\"#7fbc41\"],[0.9,\"#4d9221\"],[1,\"#276419\"]],\"sequential\":[[0.0,\"#0d0887\"],[0.1111111111111111,\"#46039f\"],[0.2222222222222222,\"#7201a8\"],[0.3333333333333333,\"#9c179e\"],[0.4444444444444444,\"#bd3786\"],[0.5555555555555556,\"#d8576b\"],[0.6666666666666666,\"#ed7953\"],[0.7777777777777778,\"#fb9f3a\"],[0.8888888888888888,\"#fdca26\"],[1.0,\"#f0f921\"]],\"sequentialminus\":[[0.0,\"#0d0887\"],[0.1111111111111111,\"#46039f\"],[0.2222222222222222,\"#7201a8\"],[0.3333333333333333,\"#9c179e\"],[0.4444444444444444,\"#bd3786\"],[0.5555555555555556,\"#d8576b\"],[0.6666666666666666,\"#ed7953\"],[0.7777777777777778,\"#fb9f3a\"],[0.8888888888888888,\"#fdca26\"],[1.0,\"#f0f921\"]]},\"colorway\":[\"#636efa\",\"#EF553B\",\"#00cc96\",\"#ab63fa\",\"#FFA15A\",\"#19d3f3\",\"#FF6692\",\"#B6E880\",\"#FF97FF\",\"#FECB52\"],\"font\":{\"color\":\"#2a3f5f\"},\"geo\":{\"bgcolor\":\"white\",\"lakecolor\":\"white\",\"landcolor\":\"#E5ECF6\",\"showlakes\":true,\"showland\":true,\"subunitcolor\":\"white\"},\"hoverlabel\":{\"align\":\"left\"},\"hovermode\":\"closest\",\"mapbox\":{\"style\":\"light\"},\"paper_bgcolor\":\"white\",\"plot_bgcolor\":\"#E5ECF6\",\"polar\":{\"angularaxis\":{\"gridcolor\":\"white\",\"linecolor\":\"white\",\"ticks\":\"\"},\"bgcolor\":\"#E5ECF6\",\"radialaxis\":{\"gridcolor\":\"white\",\"linecolor\":\"white\",\"ticks\":\"\"}},\"scene\":{\"xaxis\":{\"backgroundcolor\":\"#E5ECF6\",\"gridcolor\":\"white\",\"gridwidth\":2,\"linecolor\":\"white\",\"showbackground\":true,\"ticks\":\"\",\"zerolinecolor\":\"white\"},\"yaxis\":{\"backgroundcolor\":\"#E5ECF6\",\"gridcolor\":\"white\",\"gridwidth\":2,\"linecolor\":\"white\",\"showbackground\":true,\"ticks\":\"\",\"zerolinecolor\":\"white\"},\"zaxis\":{\"backgroundcolor\":\"#E5ECF6\",\"gridcolor\":\"white\",\"gridwidth\":2,\"linecolor\":\"white\",\"showbackground\":true,\"ticks\":\"\",\"zerolinecolor\":\"white\"}},\"shapedefaults\":{\"line\":{\"color\":\"#2a3f5f\"}},\"ternary\":{\"aaxis\":{\"gridcolor\":\"white\",\"linecolor\":\"white\",\"ticks\":\"\"},\"baxis\":{\"gridcolor\":\"white\",\"linecolor\":\"white\",\"ticks\":\"\"},\"bgcolor\":\"#E5ECF6\",\"caxis\":{\"gridcolor\":\"white\",\"linecolor\":\"white\",\"ticks\":\"\"}},\"title\":{\"x\":0.05},\"xaxis\":{\"automargin\":true,\"gridcolor\":\"white\",\"linecolor\":\"white\",\"ticks\":\"\",\"title\":{\"standoff\":15},\"zerolinecolor\":\"white\",\"zerolinewidth\":2},\"yaxis\":{\"automargin\":true,\"gridcolor\":\"white\",\"linecolor\":\"white\",\"ticks\":\"\",\"title\":{\"standoff\":15},\"zerolinecolor\":\"white\",\"zerolinewidth\":2}}},\"xaxis\":{\"anchor\":\"y\",\"domain\":[0.0,1.0],\"title\":{\"text\":\"Score\"},\"type\":\"log\"},\"yaxis\":{\"anchor\":\"x\",\"domain\":[0.0,1.0],\"title\":{\"text\":\"Value\"}},\"legend\":{\"tracegroupgap\":0},\"margin\":{\"t\":60}},                        {\"responsive\": true}                    ).then(function(){\n",
              "                            \n",
              "var gd = document.getElementById('6fdbb225-8986-4435-aba4-98da03d663ef');\n",
              "var x = new MutationObserver(function (mutations, observer) {{\n",
              "        var display = window.getComputedStyle(gd).display;\n",
              "        if (!display || display === 'none') {{\n",
              "            console.log([gd, 'removed!']);\n",
              "            Plotly.purge(gd);\n",
              "            observer.disconnect();\n",
              "        }}\n",
              "}});\n",
              "\n",
              "// Listen for the removal of the full notebook cells\n",
              "var notebookContainer = gd.closest('#notebook-container');\n",
              "if (notebookContainer) {{\n",
              "    x.observe(notebookContainer, {childList: true});\n",
              "}}\n",
              "\n",
              "// Listen for the clearing of the current output cell\n",
              "var outputEl = gd.closest('.output');\n",
              "if (outputEl) {{\n",
              "    x.observe(outputEl, {childList: true});\n",
              "}}\n",
              "\n",
              "                        })                };                });            </script>        </div>"
            ]
          },
          "metadata": {},
          "output_type": "display_data"
        }
      ],
      "source": [
        "fig = px.scatter(merged_data, x=\"Score\", y=\"Value\", log_x=True, hover_data=[\"Country\", \"Score\"])\n",
        "fig.show()"
      ]
    },
    {
      "cell_type": "code",
      "execution_count": null,
      "id": "aa0fc96d",
      "metadata": {
        "id": "aa0fc96d",
        "outputId": "d1f99eb3-7d3e-4c01-ab1d-856c71ed622c"
      },
      "outputs": [
        {
          "data": {
            "application/vnd.plotly.v1+json": {
              "config": {
                "plotlyServerURL": "https://plot.ly"
              },
              "data": [
                {
                  "customdata": [
                    [
                      "Afghanistan"
                    ],
                    [
                      "Albania"
                    ],
                    [
                      "Algeria"
                    ],
                    [
                      "Angola"
                    ],
                    [
                      "Argentina"
                    ],
                    [
                      "Armenia"
                    ],
                    [
                      "Australia"
                    ],
                    [
                      "Austria"
                    ],
                    [
                      "Azerbaijan"
                    ],
                    [
                      "Bahrain"
                    ],
                    [
                      "Bangladesh"
                    ],
                    [
                      "Barbados"
                    ],
                    [
                      "Belarus"
                    ],
                    [
                      "Belgium"
                    ],
                    [
                      "Belize"
                    ],
                    [
                      "Benin"
                    ],
                    [
                      "Bhutan"
                    ],
                    [
                      "Bolivia"
                    ],
                    [
                      "Bosnia and Herzegovina"
                    ],
                    [
                      "Botswana"
                    ],
                    [
                      "Brazil"
                    ],
                    [
                      "Brunei Darussalam"
                    ],
                    [
                      "Bulgaria"
                    ],
                    [
                      "Burkina Faso"
                    ],
                    [
                      "Burundi"
                    ],
                    [
                      "Cabo Verde"
                    ],
                    [
                      "Cambodia"
                    ],
                    [
                      "Cameroon"
                    ],
                    [
                      "Canada"
                    ],
                    [
                      "Central African Republic"
                    ],
                    [
                      "Chad"
                    ],
                    [
                      "Chile"
                    ],
                    [
                      "China"
                    ],
                    [
                      "Colombia"
                    ],
                    [
                      "Comoros"
                    ],
                    [
                      "Costa Rica"
                    ],
                    [
                      "Croatia"
                    ],
                    [
                      "Cyprus"
                    ],
                    [
                      "Czech Republic"
                    ],
                    [
                      "Denmark"
                    ],
                    [
                      "Djibouti"
                    ],
                    [
                      "Dominica"
                    ],
                    [
                      "Dominican Republic"
                    ],
                    [
                      "Ecuador"
                    ],
                    [
                      "El Salvador"
                    ],
                    [
                      "Equatorial Guinea"
                    ],
                    [
                      "Eritrea"
                    ],
                    [
                      "Estonia"
                    ],
                    [
                      "Eswatini"
                    ],
                    [
                      "Ethiopia"
                    ],
                    [
                      "Fiji"
                    ],
                    [
                      "Finland"
                    ],
                    [
                      "France"
                    ],
                    [
                      "Gabon"
                    ],
                    [
                      "Georgia"
                    ],
                    [
                      "Germany"
                    ],
                    [
                      "Ghana"
                    ],
                    [
                      "Greece"
                    ],
                    [
                      "Guatemala"
                    ],
                    [
                      "Guinea"
                    ],
                    [
                      "Guinea-Bissau"
                    ],
                    [
                      "Guyana"
                    ],
                    [
                      "Haiti"
                    ],
                    [
                      "Honduras"
                    ],
                    [
                      "Hungary"
                    ],
                    [
                      "Iceland"
                    ],
                    [
                      "India"
                    ],
                    [
                      "Indonesia"
                    ],
                    [
                      "Ireland"
                    ],
                    [
                      "Israel"
                    ],
                    [
                      "Italy"
                    ],
                    [
                      "Jamaica"
                    ],
                    [
                      "Japan"
                    ],
                    [
                      "Jordan"
                    ],
                    [
                      "Kazakhstan"
                    ],
                    [
                      "Kenya"
                    ],
                    [
                      "Kiribati"
                    ],
                    [
                      "Kosovo"
                    ],
                    [
                      "Kuwait"
                    ],
                    [
                      "Kyrgyz Republic"
                    ],
                    [
                      "Latvia"
                    ],
                    [
                      "Lebanon"
                    ],
                    [
                      "Lesotho"
                    ],
                    [
                      "Liberia"
                    ],
                    [
                      "Lithuania"
                    ],
                    [
                      "Luxembourg"
                    ],
                    [
                      "Madagascar"
                    ],
                    [
                      "Malawi"
                    ],
                    [
                      "Malaysia"
                    ],
                    [
                      "Maldives"
                    ],
                    [
                      "Mali"
                    ],
                    [
                      "Malta"
                    ],
                    [
                      "Mauritania"
                    ],
                    [
                      "Mauritius"
                    ],
                    [
                      "Mexico"
                    ],
                    [
                      "Moldova"
                    ],
                    [
                      "Mongolia"
                    ],
                    [
                      "Montenegro"
                    ],
                    [
                      "Morocco"
                    ],
                    [
                      "Mozambique"
                    ],
                    [
                      "Namibia"
                    ],
                    [
                      "Nepal"
                    ],
                    [
                      "Netherlands"
                    ],
                    [
                      "New Zealand"
                    ],
                    [
                      "Nicaragua"
                    ],
                    [
                      "Niger"
                    ],
                    [
                      "Nigeria"
                    ],
                    [
                      "North Macedonia"
                    ],
                    [
                      "Norway"
                    ],
                    [
                      "Oman"
                    ],
                    [
                      "Pakistan"
                    ],
                    [
                      "Panama"
                    ],
                    [
                      "Papua New Guinea"
                    ],
                    [
                      "Paraguay"
                    ],
                    [
                      "Peru"
                    ],
                    [
                      "Philippines"
                    ],
                    [
                      "Poland"
                    ],
                    [
                      "Portugal"
                    ],
                    [
                      "Qatar"
                    ],
                    [
                      "Romania"
                    ],
                    [
                      "Rwanda"
                    ],
                    [
                      "Samoa"
                    ],
                    [
                      "Saudi Arabia"
                    ],
                    [
                      "Senegal"
                    ],
                    [
                      "Serbia"
                    ],
                    [
                      "Seychelles"
                    ],
                    [
                      "Sierra Leone"
                    ],
                    [
                      "Singapore"
                    ],
                    [
                      "Slovak Republic"
                    ],
                    [
                      "Slovenia"
                    ],
                    [
                      "Solomon Islands"
                    ],
                    [
                      "South Africa"
                    ],
                    [
                      "Spain"
                    ],
                    [
                      "Sri Lanka"
                    ],
                    [
                      "Sudan"
                    ],
                    [
                      "Suriname"
                    ],
                    [
                      "Sweden"
                    ],
                    [
                      "Switzerland"
                    ],
                    [
                      "Tajikistan"
                    ],
                    [
                      "Tanzania"
                    ],
                    [
                      "Thailand"
                    ],
                    [
                      "Timor-Leste"
                    ],
                    [
                      "Togo"
                    ],
                    [
                      "Tonga"
                    ],
                    [
                      "Trinidad and Tobago"
                    ],
                    [
                      "Tunisia"
                    ],
                    [
                      "Turkey"
                    ],
                    [
                      "Turkmenistan"
                    ],
                    [
                      "Uganda"
                    ],
                    [
                      "Ukraine"
                    ],
                    [
                      "United Arab Emirates"
                    ],
                    [
                      "United Kingdom"
                    ],
                    [
                      "United States"
                    ],
                    [
                      "Uruguay"
                    ],
                    [
                      "Uzbekistan"
                    ],
                    [
                      "Vanuatu"
                    ],
                    [
                      "Vietnam"
                    ],
                    [
                      "Zambia"
                    ],
                    [
                      "Zimbabwe"
                    ]
                  ],
                  "hovertemplate": "Score=%{x}<br>Value=%{y}<br>Country=%{customdata[0]}<extra></extra>",
                  "legendgroup": "",
                  "marker": {
                    "color": "#636efa",
                    "symbol": "circle"
                  },
                  "mode": "markers",
                  "name": "",
                  "orientation": "v",
                  "showlegend": false,
                  "type": "scatter",
                  "x": [
                    51.5,
                    66.5,
                    46.2,
                    50.6,
                    52.2,
                    67.7,
                    80.9,
                    72,
                    65.4,
                    66.4,
                    55.6,
                    64.7,
                    57.9,
                    67.3,
                    55.4,
                    55.3,
                    62.9,
                    42.3,
                    61.9,
                    69.5,
                    51.9,
                    65.1,
                    69,
                    59.4,
                    48.9,
                    63.1,
                    57.8,
                    52.4,
                    77.7,
                    49.1,
                    49.9,
                    75.4,
                    58.4,
                    67.3,
                    55.4,
                    65.3,
                    61.4,
                    68.1,
                    73.7,
                    76.7,
                    47.1,
                    63.6,
                    61,
                    46.9,
                    61.8,
                    41,
                    38.9,
                    76.6,
                    54.7,
                    53.6,
                    62.2,
                    74.9,
                    63.8,
                    56.3,
                    75.9,
                    73.5,
                    57.5,
                    57.7,
                    62.6,
                    55.7,
                    54,
                    56.8,
                    52.7,
                    60.2,
                    65,
                    77.1,
                    55.2,
                    65.8,
                    80.5,
                    72.8,
                    62.2,
                    68.6,
                    72.1,
                    66.5,
                    65.4,
                    55.1,
                    47.3,
                    67,
                    60.8,
                    62.3,
                    70.4,
                    51.1,
                    53.1,
                    49.7,
                    74.2,
                    75.9,
                    56.6,
                    51.4,
                    74,
                    53.2,
                    58.1,
                    68.6,
                    55.7,
                    73,
                    64.7,
                    59.1,
                    55.4,
                    60.5,
                    62.9,
                    48.6,
                    58.7,
                    53.8,
                    76.8,
                    84.4,
                    57.7,
                    51.6,
                    57.3,
                    71.1,
                    73,
                    61,
                    55,
                    67.2,
                    58.4,
                    61.8,
                    67.8,
                    63.8,
                    67.8,
                    65.3,
                    72.6,
                    68.6,
                    71.1,
                    62.2,
                    60.7,
                    56.3,
                    63.9,
                    61.4,
                    47.5,
                    89.4,
                    65,
                    65.5,
                    54.6,
                    58.3,
                    65.7,
                    56.4,
                    47.7,
                    48.1,
                    75.2,
                    81.9,
                    55.6,
                    60.2,
                    68.3,
                    44.2,
                    50.3,
                    57.7,
                    57,
                    55.4,
                    64.6,
                    48.4,
                    59.7,
                    52.3,
                    77.6,
                    78.9,
                    76.8,
                    68.6,
                    53.3,
                    56.4,
                    55.3,
                    53.6,
                    40.4
                  ],
                  "xaxis": "x",
                  "y": [
                    2152.4,
                    14013,
                    12009.2,
                    6952.4,
                    22999.3,
                    14231.2,
                    51748.4,
                    58076.3,
                    15052.8,
                    47228.1,
                    4954.8,
                    16300.4,
                    20094.5,
                    54269.5,
                    7558.6,
                    3426.3,
                    12366.5,
                    9093.4,
                    15728.2,
                    17039.3,
                    15388.2,
                    64724.1,
                    24523.8,
                    2267.5,
                    783.5,
                    7475.1,
                    4574.4,
                    3901.1,
                    49309.5,
                    985.1,
                    1646.4,
                    25395.5,
                    16653.3,
                    15688.6,
                    3188.2,
                    22511.3,
                    30576.6,
                    42384.2,
                    42847,
                    58701,
                    5768.8,
                    12892,
                    19191.6,
                    11851.5,
                    9147.3,
                    19285,
                    1625.5,
                    37850.1,
                    9018.9,
                    2315.3,
                    14263,
                    50321.5,
                    49072.4,
                    15577.9,
                    15623.2,
                    55652.9,
                    5774.3,
                    30356.3,
                    9019.3,
                    2675.6,
                    2021.3,
                    13635.4,
                    3203.3,
                    5978.8,
                    33514.9,
                    58290.1,
                    6997.9,
                    12311.5,
                    87379.7,
                    40004,
                    44334.2,
                    10190.5,
                    42616.6,
                    10497.3,
                    27466.2,
                    4641.1,
                    2439.4,
                    11797.1,
                    51962,
                    5480.7,
                    31883.3,
                    15179.6,
                    2693.2,
                    1531.9,
                    38540.8,
                    117341.9,
                    1687.1,
                    1602.1,
                    29623.4,
                    20335.6,
                    2419.9,
                    45937.7,
                    5570,
                    23836.9,
                    19863,
                    13577.4,
                    13014.1,
                    23097.3,
                    7865.9,
                    1336,
                    10227.6,
                    4119.9,
                    59004.3,
                    45437.9,
                    5682.2,
                    1276.2,
                    5352.7,
                    17565.2,
                    66799.2,
                    32607,
                    4896.4,
                    32769.9,
                    4474.7,
                    13149,
                    13397.3,
                    9291.7,
                    33797.8,
                    36172.1,
                    93771.1,
                    31901.4,
                    2321.7,
                    6912,
                    48948.2,
                    3503.6,
                    18842.5,
                    28778.8,
                    1777.3,
                    102573.4,
                    31966.6,
                    40670.9,
                    2773.5,
                    14289.8,
                    41696.3,
                    13622.9,
                    4350.1,
                    19841.8,
                    54598.8,
                    72033.9,
                    3732.9,
                    2773.2,
                    19233.9,
                    3780,
                    2211.6,
                    6647.9,
                    26920.1,
                    11900,
                    26867.5,
                    16195.5,
                    2275.2,
                    13346.5,
                    71150.5,
                    49041.5,
                    65279.5,
                    24006.8,
                    7658.9,
                    3269.9,
                    8381.2,
                    3617.2,
                    3783.5
                  ],
                  "yaxis": "y"
                },
                {
                  "hovertemplate": "<b>OLS trendline</b><br>Value = 1672.04 * Score + -80830.2<br>R<sup>2</sup>=0.531743<br><br>Score=%{x}<br>Value=%{y} <b>(trend)</b><extra></extra>",
                  "legendgroup": "",
                  "marker": {
                    "color": "#636efa",
                    "symbol": "circle"
                  },
                  "mode": "lines",
                  "name": "",
                  "showlegend": false,
                  "type": "scatter",
                  "x": [
                    38.9,
                    40.4,
                    41,
                    42.3,
                    44.2,
                    46.2,
                    46.9,
                    47.1,
                    47.3,
                    47.5,
                    47.7,
                    48.1,
                    48.4,
                    48.6,
                    48.9,
                    49.1,
                    49.7,
                    49.9,
                    50.3,
                    50.6,
                    51.1,
                    51.4,
                    51.5,
                    51.6,
                    51.9,
                    52.2,
                    52.3,
                    52.4,
                    52.7,
                    53.1,
                    53.2,
                    53.3,
                    53.6,
                    53.6,
                    53.8,
                    54,
                    54.6,
                    54.7,
                    55,
                    55.1,
                    55.2,
                    55.3,
                    55.3,
                    55.4,
                    55.4,
                    55.4,
                    55.4,
                    55.6,
                    55.6,
                    55.7,
                    55.7,
                    56.3,
                    56.3,
                    56.4,
                    56.4,
                    56.6,
                    56.8,
                    57,
                    57.3,
                    57.5,
                    57.7,
                    57.7,
                    57.7,
                    57.8,
                    57.9,
                    58.1,
                    58.3,
                    58.4,
                    58.4,
                    58.7,
                    59.1,
                    59.4,
                    59.7,
                    60.2,
                    60.2,
                    60.5,
                    60.7,
                    60.8,
                    61,
                    61,
                    61.4,
                    61.4,
                    61.8,
                    61.8,
                    61.9,
                    62.2,
                    62.2,
                    62.2,
                    62.3,
                    62.6,
                    62.9,
                    62.9,
                    63.1,
                    63.6,
                    63.8,
                    63.8,
                    63.9,
                    64.6,
                    64.7,
                    64.7,
                    65,
                    65,
                    65.1,
                    65.3,
                    65.3,
                    65.4,
                    65.4,
                    65.5,
                    65.7,
                    65.8,
                    66.4,
                    66.5,
                    66.5,
                    67,
                    67.2,
                    67.3,
                    67.3,
                    67.7,
                    67.8,
                    67.8,
                    68.1,
                    68.3,
                    68.6,
                    68.6,
                    68.6,
                    68.6,
                    69,
                    69.5,
                    70.4,
                    71.1,
                    71.1,
                    72,
                    72.1,
                    72.6,
                    72.8,
                    73,
                    73,
                    73.5,
                    73.7,
                    74,
                    74.2,
                    74.9,
                    75.2,
                    75.4,
                    75.9,
                    75.9,
                    76.6,
                    76.7,
                    76.8,
                    76.8,
                    77.1,
                    77.6,
                    77.7,
                    78.9,
                    80.5,
                    80.9,
                    81.9,
                    84.4,
                    89.4
                  ],
                  "xaxis": "x",
                  "y": [
                    -15787.901272490395,
                    -13279.843207542886,
                    -12276.619981563883,
                    -10102.969658609378,
                    -6926.096109675869,
                    -3582.018689745848,
                    -2411.591592770361,
                    -2077.18385077735,
                    -1742.7761087843537,
                    -1408.3683667913574,
                    -1073.9606247983465,
                    -405.14514081235393,
                    96.46647217714053,
                    430.8742141701514,
                    932.4858271596459,
                    1266.8935691526567,
                    2270.11679513166,
                    2604.5245371246565,
                    3273.340021110649,
                    3774.951634100158,
                    4610.970989082663,
                    5112.582602072158,
                    5279.786473068656,
                    5446.990344065169,
                    5948.601957054663,
                    6450.213570044172,
                    6617.417441040656,
                    6784.6213120371685,
                    7286.232925026678,
                    7955.04840901267,
                    8122.252280009168,
                    8289.456151005666,
                    8791.067763995175,
                    8791.067763995175,
                    9125.475505988172,
                    9459.883247981168,
                    10463.106473960172,
                    10630.310344956684,
                    11131.921957946179,
                    11299.125828942677,
                    11466.32969993919,
                    11633.533570935673,
                    11633.533570935673,
                    11800.737441932171,
                    11800.737441932171,
                    11800.737441932171,
                    11800.737441932171,
                    12135.145183925182,
                    12135.145183925182,
                    12302.34905492168,
                    12302.34905492168,
                    13305.572280900684,
                    13305.572280900684,
                    13472.776151897182,
                    13472.776151897182,
                    13807.183893890193,
                    14141.591635883175,
                    14475.999377876185,
                    14977.61099086568,
                    15312.01873285869,
                    15646.426474851687,
                    15646.426474851687,
                    15646.426474851687,
                    15813.630345848185,
                    15980.834216844683,
                    16315.241958837694,
                    16649.64970083069,
                    16816.85357182719,
                    16816.85357182719,
                    17318.465184816698,
                    17987.280668802705,
                    18488.8922817922,
                    18990.50389478171,
                    19826.5232497642,
                    19826.5232497642,
                    20328.134862753708,
                    20662.542604746704,
                    20829.746475743203,
                    21164.1542177362,
                    21164.1542177362,
                    21832.969701722206,
                    21832.969701722206,
                    22501.7851857082,
                    22501.7851857082,
                    22668.98905670471,
                    23170.60066969422,
                    23170.60066969422,
                    23170.60066969422,
                    23337.804540690704,
                    23839.416153680213,
                    24341.027766669707,
                    24341.027766669707,
                    24675.43550866272,
                    25511.454863645224,
                    25845.862605638205,
                    25845.862605638205,
                    26013.066476634718,
                    27183.493573610205,
                    27350.697444606718,
                    27350.697444606718,
                    27852.309057596227,
                    27852.309057596227,
                    28019.51292859271,
                    28353.92067058572,
                    28353.92067058572,
                    28521.124541582234,
                    28521.124541582234,
                    28688.328412578718,
                    29022.73615457173,
                    29189.940025568212,
                    30193.16325154723,
                    30360.36712254373,
                    30360.36712254373,
                    31196.386477526234,
                    31530.79421951923,
                    31697.998090515728,
                    31697.998090515728,
                    32366.813574501735,
                    32534.017445498233,
                    32534.017445498233,
                    33035.62905848773,
                    33370.036800480724,
                    33871.64841347023,
                    33871.64841347023,
                    33871.64841347023,
                    33871.64841347023,
                    34540.46389745624,
                    35376.483252438746,
                    36881.31809140726,
                    38051.74518838273,
                    38051.74518838273,
                    39556.58002735124,
                    39723.78389834774,
                    40559.80325333025,
                    40894.21099532324,
                    41228.618737316254,
                    41228.618737316254,
                    42064.63809229876,
                    42399.045834291755,
                    42900.657447281264,
                    43235.06518927426,
                    44405.49228624978,
                    44907.10389923927,
                    45241.51164123227,
                    46077.53099621477,
                    46077.53099621477,
                    47247.95809319026,
                    47415.16196418677,
                    47582.36583518327,
                    47582.36583518327,
                    48083.977448172765,
                    48919.99680315527,
                    49087.20067415178,
                    51093.647126109776,
                    53768.909062053775,
                    54437.7245460398,
                    56109.76325600481,
                    60289.860030917305,
                    68650.05358074233
                  ],
                  "yaxis": "y"
                }
              ],
              "layout": {
                "legend": {
                  "tracegroupgap": 0
                },
                "margin": {
                  "t": 60
                },
                "template": {
                  "data": {
                    "bar": [
                      {
                        "error_x": {
                          "color": "#2a3f5f"
                        },
                        "error_y": {
                          "color": "#2a3f5f"
                        },
                        "marker": {
                          "line": {
                            "color": "#E5ECF6",
                            "width": 0.5
                          },
                          "pattern": {
                            "fillmode": "overlay",
                            "size": 10,
                            "solidity": 0.2
                          }
                        },
                        "type": "bar"
                      }
                    ],
                    "barpolar": [
                      {
                        "marker": {
                          "line": {
                            "color": "#E5ECF6",
                            "width": 0.5
                          },
                          "pattern": {
                            "fillmode": "overlay",
                            "size": 10,
                            "solidity": 0.2
                          }
                        },
                        "type": "barpolar"
                      }
                    ],
                    "carpet": [
                      {
                        "aaxis": {
                          "endlinecolor": "#2a3f5f",
                          "gridcolor": "white",
                          "linecolor": "white",
                          "minorgridcolor": "white",
                          "startlinecolor": "#2a3f5f"
                        },
                        "baxis": {
                          "endlinecolor": "#2a3f5f",
                          "gridcolor": "white",
                          "linecolor": "white",
                          "minorgridcolor": "white",
                          "startlinecolor": "#2a3f5f"
                        },
                        "type": "carpet"
                      }
                    ],
                    "choropleth": [
                      {
                        "colorbar": {
                          "outlinewidth": 0,
                          "ticks": ""
                        },
                        "type": "choropleth"
                      }
                    ],
                    "contour": [
                      {
                        "colorbar": {
                          "outlinewidth": 0,
                          "ticks": ""
                        },
                        "colorscale": [
                          [
                            0,
                            "#0d0887"
                          ],
                          [
                            0.1111111111111111,
                            "#46039f"
                          ],
                          [
                            0.2222222222222222,
                            "#7201a8"
                          ],
                          [
                            0.3333333333333333,
                            "#9c179e"
                          ],
                          [
                            0.4444444444444444,
                            "#bd3786"
                          ],
                          [
                            0.5555555555555556,
                            "#d8576b"
                          ],
                          [
                            0.6666666666666666,
                            "#ed7953"
                          ],
                          [
                            0.7777777777777778,
                            "#fb9f3a"
                          ],
                          [
                            0.8888888888888888,
                            "#fdca26"
                          ],
                          [
                            1,
                            "#f0f921"
                          ]
                        ],
                        "type": "contour"
                      }
                    ],
                    "contourcarpet": [
                      {
                        "colorbar": {
                          "outlinewidth": 0,
                          "ticks": ""
                        },
                        "type": "contourcarpet"
                      }
                    ],
                    "heatmap": [
                      {
                        "colorbar": {
                          "outlinewidth": 0,
                          "ticks": ""
                        },
                        "colorscale": [
                          [
                            0,
                            "#0d0887"
                          ],
                          [
                            0.1111111111111111,
                            "#46039f"
                          ],
                          [
                            0.2222222222222222,
                            "#7201a8"
                          ],
                          [
                            0.3333333333333333,
                            "#9c179e"
                          ],
                          [
                            0.4444444444444444,
                            "#bd3786"
                          ],
                          [
                            0.5555555555555556,
                            "#d8576b"
                          ],
                          [
                            0.6666666666666666,
                            "#ed7953"
                          ],
                          [
                            0.7777777777777778,
                            "#fb9f3a"
                          ],
                          [
                            0.8888888888888888,
                            "#fdca26"
                          ],
                          [
                            1,
                            "#f0f921"
                          ]
                        ],
                        "type": "heatmap"
                      }
                    ],
                    "heatmapgl": [
                      {
                        "colorbar": {
                          "outlinewidth": 0,
                          "ticks": ""
                        },
                        "colorscale": [
                          [
                            0,
                            "#0d0887"
                          ],
                          [
                            0.1111111111111111,
                            "#46039f"
                          ],
                          [
                            0.2222222222222222,
                            "#7201a8"
                          ],
                          [
                            0.3333333333333333,
                            "#9c179e"
                          ],
                          [
                            0.4444444444444444,
                            "#bd3786"
                          ],
                          [
                            0.5555555555555556,
                            "#d8576b"
                          ],
                          [
                            0.6666666666666666,
                            "#ed7953"
                          ],
                          [
                            0.7777777777777778,
                            "#fb9f3a"
                          ],
                          [
                            0.8888888888888888,
                            "#fdca26"
                          ],
                          [
                            1,
                            "#f0f921"
                          ]
                        ],
                        "type": "heatmapgl"
                      }
                    ],
                    "histogram": [
                      {
                        "marker": {
                          "pattern": {
                            "fillmode": "overlay",
                            "size": 10,
                            "solidity": 0.2
                          }
                        },
                        "type": "histogram"
                      }
                    ],
                    "histogram2d": [
                      {
                        "colorbar": {
                          "outlinewidth": 0,
                          "ticks": ""
                        },
                        "colorscale": [
                          [
                            0,
                            "#0d0887"
                          ],
                          [
                            0.1111111111111111,
                            "#46039f"
                          ],
                          [
                            0.2222222222222222,
                            "#7201a8"
                          ],
                          [
                            0.3333333333333333,
                            "#9c179e"
                          ],
                          [
                            0.4444444444444444,
                            "#bd3786"
                          ],
                          [
                            0.5555555555555556,
                            "#d8576b"
                          ],
                          [
                            0.6666666666666666,
                            "#ed7953"
                          ],
                          [
                            0.7777777777777778,
                            "#fb9f3a"
                          ],
                          [
                            0.8888888888888888,
                            "#fdca26"
                          ],
                          [
                            1,
                            "#f0f921"
                          ]
                        ],
                        "type": "histogram2d"
                      }
                    ],
                    "histogram2dcontour": [
                      {
                        "colorbar": {
                          "outlinewidth": 0,
                          "ticks": ""
                        },
                        "colorscale": [
                          [
                            0,
                            "#0d0887"
                          ],
                          [
                            0.1111111111111111,
                            "#46039f"
                          ],
                          [
                            0.2222222222222222,
                            "#7201a8"
                          ],
                          [
                            0.3333333333333333,
                            "#9c179e"
                          ],
                          [
                            0.4444444444444444,
                            "#bd3786"
                          ],
                          [
                            0.5555555555555556,
                            "#d8576b"
                          ],
                          [
                            0.6666666666666666,
                            "#ed7953"
                          ],
                          [
                            0.7777777777777778,
                            "#fb9f3a"
                          ],
                          [
                            0.8888888888888888,
                            "#fdca26"
                          ],
                          [
                            1,
                            "#f0f921"
                          ]
                        ],
                        "type": "histogram2dcontour"
                      }
                    ],
                    "mesh3d": [
                      {
                        "colorbar": {
                          "outlinewidth": 0,
                          "ticks": ""
                        },
                        "type": "mesh3d"
                      }
                    ],
                    "parcoords": [
                      {
                        "line": {
                          "colorbar": {
                            "outlinewidth": 0,
                            "ticks": ""
                          }
                        },
                        "type": "parcoords"
                      }
                    ],
                    "pie": [
                      {
                        "automargin": true,
                        "type": "pie"
                      }
                    ],
                    "scatter": [
                      {
                        "marker": {
                          "colorbar": {
                            "outlinewidth": 0,
                            "ticks": ""
                          }
                        },
                        "type": "scatter"
                      }
                    ],
                    "scatter3d": [
                      {
                        "line": {
                          "colorbar": {
                            "outlinewidth": 0,
                            "ticks": ""
                          }
                        },
                        "marker": {
                          "colorbar": {
                            "outlinewidth": 0,
                            "ticks": ""
                          }
                        },
                        "type": "scatter3d"
                      }
                    ],
                    "scattercarpet": [
                      {
                        "marker": {
                          "colorbar": {
                            "outlinewidth": 0,
                            "ticks": ""
                          }
                        },
                        "type": "scattercarpet"
                      }
                    ],
                    "scattergeo": [
                      {
                        "marker": {
                          "colorbar": {
                            "outlinewidth": 0,
                            "ticks": ""
                          }
                        },
                        "type": "scattergeo"
                      }
                    ],
                    "scattergl": [
                      {
                        "marker": {
                          "colorbar": {
                            "outlinewidth": 0,
                            "ticks": ""
                          }
                        },
                        "type": "scattergl"
                      }
                    ],
                    "scattermapbox": [
                      {
                        "marker": {
                          "colorbar": {
                            "outlinewidth": 0,
                            "ticks": ""
                          }
                        },
                        "type": "scattermapbox"
                      }
                    ],
                    "scatterpolar": [
                      {
                        "marker": {
                          "colorbar": {
                            "outlinewidth": 0,
                            "ticks": ""
                          }
                        },
                        "type": "scatterpolar"
                      }
                    ],
                    "scatterpolargl": [
                      {
                        "marker": {
                          "colorbar": {
                            "outlinewidth": 0,
                            "ticks": ""
                          }
                        },
                        "type": "scatterpolargl"
                      }
                    ],
                    "scatterternary": [
                      {
                        "marker": {
                          "colorbar": {
                            "outlinewidth": 0,
                            "ticks": ""
                          }
                        },
                        "type": "scatterternary"
                      }
                    ],
                    "surface": [
                      {
                        "colorbar": {
                          "outlinewidth": 0,
                          "ticks": ""
                        },
                        "colorscale": [
                          [
                            0,
                            "#0d0887"
                          ],
                          [
                            0.1111111111111111,
                            "#46039f"
                          ],
                          [
                            0.2222222222222222,
                            "#7201a8"
                          ],
                          [
                            0.3333333333333333,
                            "#9c179e"
                          ],
                          [
                            0.4444444444444444,
                            "#bd3786"
                          ],
                          [
                            0.5555555555555556,
                            "#d8576b"
                          ],
                          [
                            0.6666666666666666,
                            "#ed7953"
                          ],
                          [
                            0.7777777777777778,
                            "#fb9f3a"
                          ],
                          [
                            0.8888888888888888,
                            "#fdca26"
                          ],
                          [
                            1,
                            "#f0f921"
                          ]
                        ],
                        "type": "surface"
                      }
                    ],
                    "table": [
                      {
                        "cells": {
                          "fill": {
                            "color": "#EBF0F8"
                          },
                          "line": {
                            "color": "white"
                          }
                        },
                        "header": {
                          "fill": {
                            "color": "#C8D4E3"
                          },
                          "line": {
                            "color": "white"
                          }
                        },
                        "type": "table"
                      }
                    ]
                  },
                  "layout": {
                    "annotationdefaults": {
                      "arrowcolor": "#2a3f5f",
                      "arrowhead": 0,
                      "arrowwidth": 1
                    },
                    "autotypenumbers": "strict",
                    "coloraxis": {
                      "colorbar": {
                        "outlinewidth": 0,
                        "ticks": ""
                      }
                    },
                    "colorscale": {
                      "diverging": [
                        [
                          0,
                          "#8e0152"
                        ],
                        [
                          0.1,
                          "#c51b7d"
                        ],
                        [
                          0.2,
                          "#de77ae"
                        ],
                        [
                          0.3,
                          "#f1b6da"
                        ],
                        [
                          0.4,
                          "#fde0ef"
                        ],
                        [
                          0.5,
                          "#f7f7f7"
                        ],
                        [
                          0.6,
                          "#e6f5d0"
                        ],
                        [
                          0.7,
                          "#b8e186"
                        ],
                        [
                          0.8,
                          "#7fbc41"
                        ],
                        [
                          0.9,
                          "#4d9221"
                        ],
                        [
                          1,
                          "#276419"
                        ]
                      ],
                      "sequential": [
                        [
                          0,
                          "#0d0887"
                        ],
                        [
                          0.1111111111111111,
                          "#46039f"
                        ],
                        [
                          0.2222222222222222,
                          "#7201a8"
                        ],
                        [
                          0.3333333333333333,
                          "#9c179e"
                        ],
                        [
                          0.4444444444444444,
                          "#bd3786"
                        ],
                        [
                          0.5555555555555556,
                          "#d8576b"
                        ],
                        [
                          0.6666666666666666,
                          "#ed7953"
                        ],
                        [
                          0.7777777777777778,
                          "#fb9f3a"
                        ],
                        [
                          0.8888888888888888,
                          "#fdca26"
                        ],
                        [
                          1,
                          "#f0f921"
                        ]
                      ],
                      "sequentialminus": [
                        [
                          0,
                          "#0d0887"
                        ],
                        [
                          0.1111111111111111,
                          "#46039f"
                        ],
                        [
                          0.2222222222222222,
                          "#7201a8"
                        ],
                        [
                          0.3333333333333333,
                          "#9c179e"
                        ],
                        [
                          0.4444444444444444,
                          "#bd3786"
                        ],
                        [
                          0.5555555555555556,
                          "#d8576b"
                        ],
                        [
                          0.6666666666666666,
                          "#ed7953"
                        ],
                        [
                          0.7777777777777778,
                          "#fb9f3a"
                        ],
                        [
                          0.8888888888888888,
                          "#fdca26"
                        ],
                        [
                          1,
                          "#f0f921"
                        ]
                      ]
                    },
                    "colorway": [
                      "#636efa",
                      "#EF553B",
                      "#00cc96",
                      "#ab63fa",
                      "#FFA15A",
                      "#19d3f3",
                      "#FF6692",
                      "#B6E880",
                      "#FF97FF",
                      "#FECB52"
                    ],
                    "font": {
                      "color": "#2a3f5f"
                    },
                    "geo": {
                      "bgcolor": "white",
                      "lakecolor": "white",
                      "landcolor": "#E5ECF6",
                      "showlakes": true,
                      "showland": true,
                      "subunitcolor": "white"
                    },
                    "hoverlabel": {
                      "align": "left"
                    },
                    "hovermode": "closest",
                    "mapbox": {
                      "style": "light"
                    },
                    "paper_bgcolor": "white",
                    "plot_bgcolor": "#E5ECF6",
                    "polar": {
                      "angularaxis": {
                        "gridcolor": "white",
                        "linecolor": "white",
                        "ticks": ""
                      },
                      "bgcolor": "#E5ECF6",
                      "radialaxis": {
                        "gridcolor": "white",
                        "linecolor": "white",
                        "ticks": ""
                      }
                    },
                    "scene": {
                      "xaxis": {
                        "backgroundcolor": "#E5ECF6",
                        "gridcolor": "white",
                        "gridwidth": 2,
                        "linecolor": "white",
                        "showbackground": true,
                        "ticks": "",
                        "zerolinecolor": "white"
                      },
                      "yaxis": {
                        "backgroundcolor": "#E5ECF6",
                        "gridcolor": "white",
                        "gridwidth": 2,
                        "linecolor": "white",
                        "showbackground": true,
                        "ticks": "",
                        "zerolinecolor": "white"
                      },
                      "zaxis": {
                        "backgroundcolor": "#E5ECF6",
                        "gridcolor": "white",
                        "gridwidth": 2,
                        "linecolor": "white",
                        "showbackground": true,
                        "ticks": "",
                        "zerolinecolor": "white"
                      }
                    },
                    "shapedefaults": {
                      "line": {
                        "color": "#2a3f5f"
                      }
                    },
                    "ternary": {
                      "aaxis": {
                        "gridcolor": "white",
                        "linecolor": "white",
                        "ticks": ""
                      },
                      "baxis": {
                        "gridcolor": "white",
                        "linecolor": "white",
                        "ticks": ""
                      },
                      "bgcolor": "#E5ECF6",
                      "caxis": {
                        "gridcolor": "white",
                        "linecolor": "white",
                        "ticks": ""
                      }
                    },
                    "title": {
                      "x": 0.05
                    },
                    "xaxis": {
                      "automargin": true,
                      "gridcolor": "white",
                      "linecolor": "white",
                      "ticks": "",
                      "title": {
                        "standoff": 15
                      },
                      "zerolinecolor": "white",
                      "zerolinewidth": 2
                    },
                    "yaxis": {
                      "automargin": true,
                      "gridcolor": "white",
                      "linecolor": "white",
                      "ticks": "",
                      "title": {
                        "standoff": 15
                      },
                      "zerolinecolor": "white",
                      "zerolinewidth": 2
                    }
                  }
                },
                "xaxis": {
                  "anchor": "y",
                  "domain": [
                    0,
                    1
                  ],
                  "title": {
                    "text": "Score"
                  },
                  "type": "log"
                },
                "yaxis": {
                  "anchor": "x",
                  "domain": [
                    0,
                    1
                  ],
                  "title": {
                    "text": "Value"
                  }
                }
              }
            },
            "text/html": [
              "<div>                            <div id=\"a8bf371a-3adf-4b1d-bade-045c796d6e90\" class=\"plotly-graph-div\" style=\"height:525px; width:100%;\"></div>            <script type=\"text/javascript\">                require([\"plotly\"], function(Plotly) {                    window.PLOTLYENV=window.PLOTLYENV || {};                                    if (document.getElementById(\"a8bf371a-3adf-4b1d-bade-045c796d6e90\")) {                    Plotly.newPlot(                        \"a8bf371a-3adf-4b1d-bade-045c796d6e90\",                        [{\"customdata\":[[\"Afghanistan\"],[\"Albania\"],[\"Algeria\"],[\"Angola\"],[\"Argentina\"],[\"Armenia\"],[\"Australia\"],[\"Austria\"],[\"Azerbaijan\"],[\"Bahrain\"],[\"Bangladesh\"],[\"Barbados\"],[\"Belarus\"],[\"Belgium\"],[\"Belize\"],[\"Benin\"],[\"Bhutan\"],[\"Bolivia\"],[\"Bosnia and Herzegovina\"],[\"Botswana\"],[\"Brazil\"],[\"Brunei Darussalam\"],[\"Bulgaria\"],[\"Burkina Faso\"],[\"Burundi\"],[\"Cabo Verde\"],[\"Cambodia\"],[\"Cameroon\"],[\"Canada\"],[\"Central African Republic\"],[\"Chad\"],[\"Chile\"],[\"China\"],[\"Colombia\"],[\"Comoros\"],[\"Costa Rica\"],[\"Croatia\"],[\"Cyprus\"],[\"Czech Republic\"],[\"Denmark\"],[\"Djibouti\"],[\"Dominica\"],[\"Dominican Republic\"],[\"Ecuador\"],[\"El Salvador\"],[\"Equatorial Guinea\"],[\"Eritrea\"],[\"Estonia\"],[\"Eswatini\"],[\"Ethiopia\"],[\"Fiji\"],[\"Finland\"],[\"France\"],[\"Gabon\"],[\"Georgia\"],[\"Germany\"],[\"Ghana\"],[\"Greece\"],[\"Guatemala\"],[\"Guinea\"],[\"Guinea-Bissau\"],[\"Guyana\"],[\"Haiti\"],[\"Honduras\"],[\"Hungary\"],[\"Iceland\"],[\"India\"],[\"Indonesia\"],[\"Ireland\"],[\"Israel\"],[\"Italy\"],[\"Jamaica\"],[\"Japan\"],[\"Jordan\"],[\"Kazakhstan\"],[\"Kenya\"],[\"Kiribati\"],[\"Kosovo\"],[\"Kuwait\"],[\"Kyrgyz Republic\"],[\"Latvia\"],[\"Lebanon\"],[\"Lesotho\"],[\"Liberia\"],[\"Lithuania\"],[\"Luxembourg\"],[\"Madagascar\"],[\"Malawi\"],[\"Malaysia\"],[\"Maldives\"],[\"Mali\"],[\"Malta\"],[\"Mauritania\"],[\"Mauritius\"],[\"Mexico\"],[\"Moldova\"],[\"Mongolia\"],[\"Montenegro\"],[\"Morocco\"],[\"Mozambique\"],[\"Namibia\"],[\"Nepal\"],[\"Netherlands\"],[\"New Zealand\"],[\"Nicaragua\"],[\"Niger\"],[\"Nigeria\"],[\"North Macedonia\"],[\"Norway\"],[\"Oman\"],[\"Pakistan\"],[\"Panama\"],[\"Papua New Guinea\"],[\"Paraguay\"],[\"Peru\"],[\"Philippines\"],[\"Poland\"],[\"Portugal\"],[\"Qatar\"],[\"Romania\"],[\"Rwanda\"],[\"Samoa\"],[\"Saudi Arabia\"],[\"Senegal\"],[\"Serbia\"],[\"Seychelles\"],[\"Sierra Leone\"],[\"Singapore\"],[\"Slovak Republic\"],[\"Slovenia\"],[\"Solomon Islands\"],[\"South Africa\"],[\"Spain\"],[\"Sri Lanka\"],[\"Sudan\"],[\"Suriname\"],[\"Sweden\"],[\"Switzerland\"],[\"Tajikistan\"],[\"Tanzania\"],[\"Thailand\"],[\"Timor-Leste\"],[\"Togo\"],[\"Tonga\"],[\"Trinidad and Tobago\"],[\"Tunisia\"],[\"Turkey\"],[\"Turkmenistan\"],[\"Uganda\"],[\"Ukraine\"],[\"United Arab Emirates\"],[\"United Kingdom\"],[\"United States\"],[\"Uruguay\"],[\"Uzbekistan\"],[\"Vanuatu\"],[\"Vietnam\"],[\"Zambia\"],[\"Zimbabwe\"]],\"hovertemplate\":\"Score=%{x}<br>Value=%{y}<br>Country=%{customdata[0]}<extra></extra>\",\"legendgroup\":\"\",\"marker\":{\"color\":\"#636efa\",\"symbol\":\"circle\"},\"mode\":\"markers\",\"name\":\"\",\"orientation\":\"v\",\"showlegend\":false,\"x\":[51.5,66.5,46.2,50.6,52.2,67.7,80.9,72.0,65.4,66.4,55.6,64.7,57.9,67.3,55.4,55.3,62.9,42.3,61.9,69.5,51.9,65.1,69.0,59.4,48.9,63.1,57.8,52.4,77.7,49.1,49.9,75.4,58.4,67.3,55.4,65.3,61.4,68.1,73.7,76.7,47.1,63.6,61.0,46.9,61.8,41.0,38.9,76.6,54.7,53.6,62.2,74.9,63.8,56.3,75.9,73.5,57.5,57.7,62.6,55.7,54.0,56.8,52.7,60.2,65.0,77.1,55.2,65.8,80.5,72.8,62.2,68.6,72.1,66.5,65.4,55.1,47.3,67.0,60.8,62.3,70.4,51.1,53.1,49.7,74.2,75.9,56.6,51.4,74.0,53.2,58.1,68.6,55.7,73.0,64.7,59.1,55.4,60.5,62.9,48.6,58.7,53.8,76.8,84.4,57.7,51.6,57.3,71.1,73.0,61.0,55.0,67.2,58.4,61.8,67.8,63.8,67.8,65.3,72.6,68.6,71.1,62.2,60.7,56.3,63.9,61.4,47.5,89.4,65.0,65.5,54.6,58.3,65.7,56.4,47.7,48.1,75.2,81.9,55.6,60.2,68.3,44.2,50.3,57.7,57.0,55.4,64.6,48.4,59.7,52.3,77.6,78.9,76.8,68.6,53.3,56.4,55.3,53.6,40.4],\"xaxis\":\"x\",\"y\":[2152.4,14013.0,12009.2,6952.4,22999.3,14231.2,51748.4,58076.3,15052.8,47228.1,4954.8,16300.4,20094.5,54269.5,7558.6,3426.3,12366.5,9093.4,15728.2,17039.3,15388.2,64724.1,24523.8,2267.5,783.5,7475.1,4574.4,3901.1,49309.5,985.1,1646.4,25395.5,16653.3,15688.6,3188.2,22511.3,30576.6,42384.2,42847.0,58701.0,5768.8,12892.0,19191.6,11851.5,9147.3,19285.0,1625.5,37850.1,9018.9,2315.3,14263.0,50321.5,49072.4,15577.9,15623.2,55652.9,5774.3,30356.3,9019.3,2675.6,2021.3,13635.4,3203.3,5978.8,33514.9,58290.1,6997.9,12311.5,87379.7,40004.0,44334.2,10190.5,42616.6,10497.3,27466.2,4641.1,2439.4,11797.1,51962.0,5480.7,31883.3,15179.6,2693.2,1531.9,38540.8,117341.9,1687.1,1602.1,29623.4,20335.6,2419.9,45937.7,5570.0,23836.9,19863.0,13577.4,13014.1,23097.3,7865.9,1336.0,10227.6,4119.9,59004.3,45437.9,5682.2,1276.2,5352.7,17565.2,66799.2,32607.0,4896.4,32769.9,4474.7,13149.0,13397.3,9291.7,33797.8,36172.1,93771.1,31901.4,2321.7,6912.0,48948.2,3503.6,18842.5,28778.8,1777.3,102573.4,31966.6,40670.9,2773.5,14289.8,41696.3,13622.9,4350.1,19841.8,54598.8,72033.9,3732.9,2773.2,19233.9,3780.0,2211.6,6647.9,26920.1,11900.0,26867.5,16195.5,2275.2,13346.5,71150.5,49041.5,65279.5,24006.8,7658.9,3269.9,8381.2,3617.2,3783.5],\"yaxis\":\"y\",\"type\":\"scatter\"},{\"hovertemplate\":\"<b>OLS trendline</b><br>Value = 1672.04 * Score + -80830.2<br>R<sup>2</sup>=0.531743<br><br>Score=%{x}<br>Value=%{y} <b>(trend)</b><extra></extra>\",\"legendgroup\":\"\",\"marker\":{\"color\":\"#636efa\",\"symbol\":\"circle\"},\"mode\":\"lines\",\"name\":\"\",\"showlegend\":false,\"x\":[38.9,40.4,41.0,42.3,44.2,46.2,46.9,47.1,47.3,47.5,47.7,48.1,48.4,48.6,48.9,49.1,49.7,49.9,50.3,50.6,51.1,51.4,51.5,51.6,51.9,52.2,52.3,52.4,52.7,53.1,53.2,53.3,53.6,53.6,53.8,54.0,54.6,54.7,55.0,55.1,55.2,55.3,55.3,55.4,55.4,55.4,55.4,55.6,55.6,55.7,55.7,56.3,56.3,56.4,56.4,56.6,56.8,57.0,57.3,57.5,57.7,57.7,57.7,57.8,57.9,58.1,58.3,58.4,58.4,58.7,59.1,59.4,59.7,60.2,60.2,60.5,60.7,60.8,61.0,61.0,61.4,61.4,61.8,61.8,61.9,62.2,62.2,62.2,62.3,62.6,62.9,62.9,63.1,63.6,63.8,63.8,63.9,64.6,64.7,64.7,65.0,65.0,65.1,65.3,65.3,65.4,65.4,65.5,65.7,65.8,66.4,66.5,66.5,67.0,67.2,67.3,67.3,67.7,67.8,67.8,68.1,68.3,68.6,68.6,68.6,68.6,69.0,69.5,70.4,71.1,71.1,72.0,72.1,72.6,72.8,73.0,73.0,73.5,73.7,74.0,74.2,74.9,75.2,75.4,75.9,75.9,76.6,76.7,76.8,76.8,77.1,77.6,77.7,78.9,80.5,80.9,81.9,84.4,89.4],\"xaxis\":\"x\",\"y\":[-15787.901272490395,-13279.843207542886,-12276.619981563883,-10102.969658609378,-6926.096109675869,-3582.018689745848,-2411.591592770361,-2077.18385077735,-1742.7761087843537,-1408.3683667913574,-1073.9606247983465,-405.14514081235393,96.46647217714053,430.8742141701514,932.4858271596459,1266.8935691526567,2270.11679513166,2604.5245371246565,3273.340021110649,3774.951634100158,4610.970989082663,5112.582602072158,5279.786473068656,5446.990344065169,5948.601957054663,6450.213570044172,6617.417441040656,6784.6213120371685,7286.232925026678,7955.04840901267,8122.252280009168,8289.456151005666,8791.067763995175,8791.067763995175,9125.475505988172,9459.883247981168,10463.106473960172,10630.310344956684,11131.921957946179,11299.125828942677,11466.32969993919,11633.533570935673,11633.533570935673,11800.737441932171,11800.737441932171,11800.737441932171,11800.737441932171,12135.145183925182,12135.145183925182,12302.34905492168,12302.34905492168,13305.572280900684,13305.572280900684,13472.776151897182,13472.776151897182,13807.183893890193,14141.591635883175,14475.999377876185,14977.61099086568,15312.01873285869,15646.426474851687,15646.426474851687,15646.426474851687,15813.630345848185,15980.834216844683,16315.241958837694,16649.64970083069,16816.85357182719,16816.85357182719,17318.465184816698,17987.280668802705,18488.8922817922,18990.50389478171,19826.5232497642,19826.5232497642,20328.134862753708,20662.542604746704,20829.746475743203,21164.1542177362,21164.1542177362,21832.969701722206,21832.969701722206,22501.7851857082,22501.7851857082,22668.98905670471,23170.60066969422,23170.60066969422,23170.60066969422,23337.804540690704,23839.416153680213,24341.027766669707,24341.027766669707,24675.43550866272,25511.454863645224,25845.862605638205,25845.862605638205,26013.066476634718,27183.493573610205,27350.697444606718,27350.697444606718,27852.309057596227,27852.309057596227,28019.51292859271,28353.92067058572,28353.92067058572,28521.124541582234,28521.124541582234,28688.328412578718,29022.73615457173,29189.940025568212,30193.16325154723,30360.36712254373,30360.36712254373,31196.386477526234,31530.79421951923,31697.998090515728,31697.998090515728,32366.813574501735,32534.017445498233,32534.017445498233,33035.62905848773,33370.036800480724,33871.64841347023,33871.64841347023,33871.64841347023,33871.64841347023,34540.46389745624,35376.483252438746,36881.31809140726,38051.74518838273,38051.74518838273,39556.58002735124,39723.78389834774,40559.80325333025,40894.21099532324,41228.618737316254,41228.618737316254,42064.63809229876,42399.045834291755,42900.657447281264,43235.06518927426,44405.49228624978,44907.10389923927,45241.51164123227,46077.53099621477,46077.53099621477,47247.95809319026,47415.16196418677,47582.36583518327,47582.36583518327,48083.977448172765,48919.99680315527,49087.20067415178,51093.647126109776,53768.909062053775,54437.7245460398,56109.76325600481,60289.860030917305,68650.05358074233],\"yaxis\":\"y\",\"type\":\"scatter\"}],                        {\"template\":{\"data\":{\"bar\":[{\"error_x\":{\"color\":\"#2a3f5f\"},\"error_y\":{\"color\":\"#2a3f5f\"},\"marker\":{\"line\":{\"color\":\"#E5ECF6\",\"width\":0.5},\"pattern\":{\"fillmode\":\"overlay\",\"size\":10,\"solidity\":0.2}},\"type\":\"bar\"}],\"barpolar\":[{\"marker\":{\"line\":{\"color\":\"#E5ECF6\",\"width\":0.5},\"pattern\":{\"fillmode\":\"overlay\",\"size\":10,\"solidity\":0.2}},\"type\":\"barpolar\"}],\"carpet\":[{\"aaxis\":{\"endlinecolor\":\"#2a3f5f\",\"gridcolor\":\"white\",\"linecolor\":\"white\",\"minorgridcolor\":\"white\",\"startlinecolor\":\"#2a3f5f\"},\"baxis\":{\"endlinecolor\":\"#2a3f5f\",\"gridcolor\":\"white\",\"linecolor\":\"white\",\"minorgridcolor\":\"white\",\"startlinecolor\":\"#2a3f5f\"},\"type\":\"carpet\"}],\"choropleth\":[{\"colorbar\":{\"outlinewidth\":0,\"ticks\":\"\"},\"type\":\"choropleth\"}],\"contour\":[{\"colorbar\":{\"outlinewidth\":0,\"ticks\":\"\"},\"colorscale\":[[0.0,\"#0d0887\"],[0.1111111111111111,\"#46039f\"],[0.2222222222222222,\"#7201a8\"],[0.3333333333333333,\"#9c179e\"],[0.4444444444444444,\"#bd3786\"],[0.5555555555555556,\"#d8576b\"],[0.6666666666666666,\"#ed7953\"],[0.7777777777777778,\"#fb9f3a\"],[0.8888888888888888,\"#fdca26\"],[1.0,\"#f0f921\"]],\"type\":\"contour\"}],\"contourcarpet\":[{\"colorbar\":{\"outlinewidth\":0,\"ticks\":\"\"},\"type\":\"contourcarpet\"}],\"heatmap\":[{\"colorbar\":{\"outlinewidth\":0,\"ticks\":\"\"},\"colorscale\":[[0.0,\"#0d0887\"],[0.1111111111111111,\"#46039f\"],[0.2222222222222222,\"#7201a8\"],[0.3333333333333333,\"#9c179e\"],[0.4444444444444444,\"#bd3786\"],[0.5555555555555556,\"#d8576b\"],[0.6666666666666666,\"#ed7953\"],[0.7777777777777778,\"#fb9f3a\"],[0.8888888888888888,\"#fdca26\"],[1.0,\"#f0f921\"]],\"type\":\"heatmap\"}],\"heatmapgl\":[{\"colorbar\":{\"outlinewidth\":0,\"ticks\":\"\"},\"colorscale\":[[0.0,\"#0d0887\"],[0.1111111111111111,\"#46039f\"],[0.2222222222222222,\"#7201a8\"],[0.3333333333333333,\"#9c179e\"],[0.4444444444444444,\"#bd3786\"],[0.5555555555555556,\"#d8576b\"],[0.6666666666666666,\"#ed7953\"],[0.7777777777777778,\"#fb9f3a\"],[0.8888888888888888,\"#fdca26\"],[1.0,\"#f0f921\"]],\"type\":\"heatmapgl\"}],\"histogram\":[{\"marker\":{\"pattern\":{\"fillmode\":\"overlay\",\"size\":10,\"solidity\":0.2}},\"type\":\"histogram\"}],\"histogram2d\":[{\"colorbar\":{\"outlinewidth\":0,\"ticks\":\"\"},\"colorscale\":[[0.0,\"#0d0887\"],[0.1111111111111111,\"#46039f\"],[0.2222222222222222,\"#7201a8\"],[0.3333333333333333,\"#9c179e\"],[0.4444444444444444,\"#bd3786\"],[0.5555555555555556,\"#d8576b\"],[0.6666666666666666,\"#ed7953\"],[0.7777777777777778,\"#fb9f3a\"],[0.8888888888888888,\"#fdca26\"],[1.0,\"#f0f921\"]],\"type\":\"histogram2d\"}],\"histogram2dcontour\":[{\"colorbar\":{\"outlinewidth\":0,\"ticks\":\"\"},\"colorscale\":[[0.0,\"#0d0887\"],[0.1111111111111111,\"#46039f\"],[0.2222222222222222,\"#7201a8\"],[0.3333333333333333,\"#9c179e\"],[0.4444444444444444,\"#bd3786\"],[0.5555555555555556,\"#d8576b\"],[0.6666666666666666,\"#ed7953\"],[0.7777777777777778,\"#fb9f3a\"],[0.8888888888888888,\"#fdca26\"],[1.0,\"#f0f921\"]],\"type\":\"histogram2dcontour\"}],\"mesh3d\":[{\"colorbar\":{\"outlinewidth\":0,\"ticks\":\"\"},\"type\":\"mesh3d\"}],\"parcoords\":[{\"line\":{\"colorbar\":{\"outlinewidth\":0,\"ticks\":\"\"}},\"type\":\"parcoords\"}],\"pie\":[{\"automargin\":true,\"type\":\"pie\"}],\"scatter\":[{\"marker\":{\"colorbar\":{\"outlinewidth\":0,\"ticks\":\"\"}},\"type\":\"scatter\"}],\"scatter3d\":[{\"line\":{\"colorbar\":{\"outlinewidth\":0,\"ticks\":\"\"}},\"marker\":{\"colorbar\":{\"outlinewidth\":0,\"ticks\":\"\"}},\"type\":\"scatter3d\"}],\"scattercarpet\":[{\"marker\":{\"colorbar\":{\"outlinewidth\":0,\"ticks\":\"\"}},\"type\":\"scattercarpet\"}],\"scattergeo\":[{\"marker\":{\"colorbar\":{\"outlinewidth\":0,\"ticks\":\"\"}},\"type\":\"scattergeo\"}],\"scattergl\":[{\"marker\":{\"colorbar\":{\"outlinewidth\":0,\"ticks\":\"\"}},\"type\":\"scattergl\"}],\"scattermapbox\":[{\"marker\":{\"colorbar\":{\"outlinewidth\":0,\"ticks\":\"\"}},\"type\":\"scattermapbox\"}],\"scatterpolar\":[{\"marker\":{\"colorbar\":{\"outlinewidth\":0,\"ticks\":\"\"}},\"type\":\"scatterpolar\"}],\"scatterpolargl\":[{\"marker\":{\"colorbar\":{\"outlinewidth\":0,\"ticks\":\"\"}},\"type\":\"scatterpolargl\"}],\"scatterternary\":[{\"marker\":{\"colorbar\":{\"outlinewidth\":0,\"ticks\":\"\"}},\"type\":\"scatterternary\"}],\"surface\":[{\"colorbar\":{\"outlinewidth\":0,\"ticks\":\"\"},\"colorscale\":[[0.0,\"#0d0887\"],[0.1111111111111111,\"#46039f\"],[0.2222222222222222,\"#7201a8\"],[0.3333333333333333,\"#9c179e\"],[0.4444444444444444,\"#bd3786\"],[0.5555555555555556,\"#d8576b\"],[0.6666666666666666,\"#ed7953\"],[0.7777777777777778,\"#fb9f3a\"],[0.8888888888888888,\"#fdca26\"],[1.0,\"#f0f921\"]],\"type\":\"surface\"}],\"table\":[{\"cells\":{\"fill\":{\"color\":\"#EBF0F8\"},\"line\":{\"color\":\"white\"}},\"header\":{\"fill\":{\"color\":\"#C8D4E3\"},\"line\":{\"color\":\"white\"}},\"type\":\"table\"}]},\"layout\":{\"annotationdefaults\":{\"arrowcolor\":\"#2a3f5f\",\"arrowhead\":0,\"arrowwidth\":1},\"autotypenumbers\":\"strict\",\"coloraxis\":{\"colorbar\":{\"outlinewidth\":0,\"ticks\":\"\"}},\"colorscale\":{\"diverging\":[[0,\"#8e0152\"],[0.1,\"#c51b7d\"],[0.2,\"#de77ae\"],[0.3,\"#f1b6da\"],[0.4,\"#fde0ef\"],[0.5,\"#f7f7f7\"],[0.6,\"#e6f5d0\"],[0.7,\"#b8e186\"],[0.8,\"#7fbc41\"],[0.9,\"#4d9221\"],[1,\"#276419\"]],\"sequential\":[[0.0,\"#0d0887\"],[0.1111111111111111,\"#46039f\"],[0.2222222222222222,\"#7201a8\"],[0.3333333333333333,\"#9c179e\"],[0.4444444444444444,\"#bd3786\"],[0.5555555555555556,\"#d8576b\"],[0.6666666666666666,\"#ed7953\"],[0.7777777777777778,\"#fb9f3a\"],[0.8888888888888888,\"#fdca26\"],[1.0,\"#f0f921\"]],\"sequentialminus\":[[0.0,\"#0d0887\"],[0.1111111111111111,\"#46039f\"],[0.2222222222222222,\"#7201a8\"],[0.3333333333333333,\"#9c179e\"],[0.4444444444444444,\"#bd3786\"],[0.5555555555555556,\"#d8576b\"],[0.6666666666666666,\"#ed7953\"],[0.7777777777777778,\"#fb9f3a\"],[0.8888888888888888,\"#fdca26\"],[1.0,\"#f0f921\"]]},\"colorway\":[\"#636efa\",\"#EF553B\",\"#00cc96\",\"#ab63fa\",\"#FFA15A\",\"#19d3f3\",\"#FF6692\",\"#B6E880\",\"#FF97FF\",\"#FECB52\"],\"font\":{\"color\":\"#2a3f5f\"},\"geo\":{\"bgcolor\":\"white\",\"lakecolor\":\"white\",\"landcolor\":\"#E5ECF6\",\"showlakes\":true,\"showland\":true,\"subunitcolor\":\"white\"},\"hoverlabel\":{\"align\":\"left\"},\"hovermode\":\"closest\",\"mapbox\":{\"style\":\"light\"},\"paper_bgcolor\":\"white\",\"plot_bgcolor\":\"#E5ECF6\",\"polar\":{\"angularaxis\":{\"gridcolor\":\"white\",\"linecolor\":\"white\",\"ticks\":\"\"},\"bgcolor\":\"#E5ECF6\",\"radialaxis\":{\"gridcolor\":\"white\",\"linecolor\":\"white\",\"ticks\":\"\"}},\"scene\":{\"xaxis\":{\"backgroundcolor\":\"#E5ECF6\",\"gridcolor\":\"white\",\"gridwidth\":2,\"linecolor\":\"white\",\"showbackground\":true,\"ticks\":\"\",\"zerolinecolor\":\"white\"},\"yaxis\":{\"backgroundcolor\":\"#E5ECF6\",\"gridcolor\":\"white\",\"gridwidth\":2,\"linecolor\":\"white\",\"showbackground\":true,\"ticks\":\"\",\"zerolinecolor\":\"white\"},\"zaxis\":{\"backgroundcolor\":\"#E5ECF6\",\"gridcolor\":\"white\",\"gridwidth\":2,\"linecolor\":\"white\",\"showbackground\":true,\"ticks\":\"\",\"zerolinecolor\":\"white\"}},\"shapedefaults\":{\"line\":{\"color\":\"#2a3f5f\"}},\"ternary\":{\"aaxis\":{\"gridcolor\":\"white\",\"linecolor\":\"white\",\"ticks\":\"\"},\"baxis\":{\"gridcolor\":\"white\",\"linecolor\":\"white\",\"ticks\":\"\"},\"bgcolor\":\"#E5ECF6\",\"caxis\":{\"gridcolor\":\"white\",\"linecolor\":\"white\",\"ticks\":\"\"}},\"title\":{\"x\":0.05},\"xaxis\":{\"automargin\":true,\"gridcolor\":\"white\",\"linecolor\":\"white\",\"ticks\":\"\",\"title\":{\"standoff\":15},\"zerolinecolor\":\"white\",\"zerolinewidth\":2},\"yaxis\":{\"automargin\":true,\"gridcolor\":\"white\",\"linecolor\":\"white\",\"ticks\":\"\",\"title\":{\"standoff\":15},\"zerolinecolor\":\"white\",\"zerolinewidth\":2}}},\"xaxis\":{\"anchor\":\"y\",\"domain\":[0.0,1.0],\"title\":{\"text\":\"Score\"},\"type\":\"log\"},\"yaxis\":{\"anchor\":\"x\",\"domain\":[0.0,1.0],\"title\":{\"text\":\"Value\"}},\"legend\":{\"tracegroupgap\":0},\"margin\":{\"t\":60}},                        {\"responsive\": true}                    ).then(function(){\n",
              "                            \n",
              "var gd = document.getElementById('a8bf371a-3adf-4b1d-bade-045c796d6e90');\n",
              "var x = new MutationObserver(function (mutations, observer) {{\n",
              "        var display = window.getComputedStyle(gd).display;\n",
              "        if (!display || display === 'none') {{\n",
              "            console.log([gd, 'removed!']);\n",
              "            Plotly.purge(gd);\n",
              "            observer.disconnect();\n",
              "        }}\n",
              "}});\n",
              "\n",
              "// Listen for the removal of the full notebook cells\n",
              "var notebookContainer = gd.closest('#notebook-container');\n",
              "if (notebookContainer) {{\n",
              "    x.observe(notebookContainer, {childList: true});\n",
              "}}\n",
              "\n",
              "// Listen for the clearing of the current output cell\n",
              "var outputEl = gd.closest('.output');\n",
              "if (outputEl) {{\n",
              "    x.observe(outputEl, {childList: true});\n",
              "}}\n",
              "\n",
              "                        })                };                });            </script>        </div>"
            ]
          },
          "metadata": {},
          "output_type": "display_data"
        }
      ],
      "source": [
        "fig = px.scatter(merged_data, x=\"Score\", y=\"Value\", trendline=\"ols\", log_x=True, hover_data=[\"Country\", \"Score\"])\n",
        "fig.show()"
      ]
    }
  ],
  "metadata": {
    "kernelspec": {
      "display_name": "Python 3 (ipykernel)",
      "language": "python",
      "name": "python3"
    },
    "language_info": {
      "codemirror_mode": {
        "name": "ipython",
        "version": 3
      },
      "file_extension": ".py",
      "mimetype": "text/x-python",
      "name": "python",
      "nbconvert_exporter": "python",
      "pygments_lexer": "ipython3",
      "version": "3.10.3"
    },
    "colab": {
      "name": "004.ipynb",
      "provenance": []
    }
  },
  "nbformat": 4,
  "nbformat_minor": 5
}